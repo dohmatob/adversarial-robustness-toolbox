{
 "cells": [
  {
   "cell_type": "markdown",
   "metadata": {},
   "source": [
    "<table style=\"border: none\" align=\"center\">\n",
    "   <tr style=\"border: none\">\n",
    "      <th style=\"border: none\"><font face=\"verdana\" size=\"4\" color=\"black\"><b>  Demonstrate detection of adversarial samples using ART  </b></font></font></th>\n",
    "   </tr> \n",
    "</table>"
   ]
  },
  {
   "cell_type": "markdown",
   "metadata": {},
   "source": [
    "In this notebook we demonstrate the detection of adversarial samples using ART. Our classifier will be a **ResNet** architecture for the [CIFAR-10](https://www.cs.toronto.edu/~kriz/cifar.html) image data set.\n",
    "\n",
    "\n",
    "## Contents\n",
    "\n",
    "1.\t[Loading prereqs and data](#prereqs)\n",
    "2.  [Evaluating the classifier](#classifier)\n",
    "3.  [Training the detector](#train_detector)\n",
    "4.  [Evaluating the detector](#detector)\n",
    "5.  [Crazy stuff](#crazy)"
   ]
  },
  {
   "cell_type": "markdown",
   "metadata": {},
   "source": [
    "<a id=\"prereqs\"></a>\n",
    "## 1. Loading prereqs and data"
   ]
  },
  {
   "cell_type": "code",
   "execution_count": 1,
   "metadata": {},
   "outputs": [
    {
     "name": "stderr",
     "output_type": "stream",
     "text": [
      "Using TensorFlow backend.\n"
     ]
    }
   ],
   "source": [
    "import warnings\n",
    "warnings.filterwarnings('ignore')\n",
    "\n",
    "from keras.models import load_model\n",
    "\n",
    "from art.config import ART_DATA_PATH\n",
    "from art.utils import load_dataset, get_file\n",
    "from art.classifiers import KerasClassifier\n",
    "from art.attacks import FastGradientMethod\n",
    "from art.detection import BinaryInputDetector\n",
    "\n",
    "import numpy as np\n",
    "\n",
    "%load_ext autoreload\n",
    "%autoreload 2\n",
    "\n",
    "%matplotlib inline\n",
    "import matplotlib.pyplot as plt"
   ]
  },
  {
   "cell_type": "markdown",
   "metadata": {},
   "source": [
    "Load the CIFAR10 data set and class descriptions:"
   ]
  },
  {
   "cell_type": "code",
   "execution_count": 2,
   "metadata": {},
   "outputs": [],
   "source": [
    "(x_train, y_train), (x_test, y_test), min_, max_ = load_dataset('cifar10')\n",
    "\n",
    "n_train = 1000\n",
    "n_test = 400\n",
    "n_jobs = 1\n",
    "x_train = x_train[:n_train]\n",
    "y_train = y_train[:n_train]\n",
    "x_test = x_test[:n_test]\n",
    "y_test = y_test[:n_test]\n",
    "\n",
    "class_descr = ['airplane', 'automobile', 'bird', 'cat', 'deer', 'dog', 'frog', 'horse', 'ship', 'truck']"
   ]
  },
  {
   "cell_type": "markdown",
   "metadata": {},
   "source": [
    "<a id=\"classifier\"></a>\n",
    "## 2. Evaluating the classifier"
   ]
  },
  {
   "cell_type": "markdown",
   "metadata": {},
   "source": [
    "Load the pre-trained classifier (a ResNet architecture):"
   ]
  },
  {
   "cell_type": "code",
   "execution_count": 3,
   "metadata": {},
   "outputs": [],
   "source": [
    "path = get_file('cifar_resnet.h5',extract=False, path=ART_DATA_PATH,\n",
    "                url='https://www.dropbox.com/s/ta75pl4krya5djj/cifar_resnet.h5?dl=1')\n",
    "classifier_model = load_model(path)\n",
    "classifier = KerasClassifier(clip_values=(min_, max_), model=classifier_model, use_logits=False, \n",
    "                             preprocessing=(0.5, 1))"
   ]
  },
  {
   "cell_type": "code",
   "execution_count": 4,
   "metadata": {
    "scrolled": false
   },
   "outputs": [
    {
     "name": "stdout",
     "output_type": "stream",
     "text": [
      "Model: \"model_1\"\n",
      "__________________________________________________________________________________________________\n",
      "Layer (type)                    Output Shape         Param #     Connected to                     \n",
      "==================================================================================================\n",
      "input_1 (InputLayer)            (None, 32, 32, 3)    0                                            \n",
      "__________________________________________________________________________________________________\n",
      "conv2d_1 (Conv2D)               (None, 32, 32, 16)   448         input_1[0][0]                    \n",
      "__________________________________________________________________________________________________\n",
      "batch_normalization_1 (BatchNor (None, 32, 32, 16)   64          conv2d_1[0][0]                   \n",
      "__________________________________________________________________________________________________\n",
      "activation_1 (Activation)       (None, 32, 32, 16)   0           batch_normalization_1[0][0]      \n",
      "__________________________________________________________________________________________________\n",
      "conv2d_2 (Conv2D)               (None, 32, 32, 16)   2320        activation_1[0][0]               \n",
      "__________________________________________________________________________________________________\n",
      "batch_normalization_2 (BatchNor (None, 32, 32, 16)   64          conv2d_2[0][0]                   \n",
      "__________________________________________________________________________________________________\n",
      "activation_2 (Activation)       (None, 32, 32, 16)   0           batch_normalization_2[0][0]      \n",
      "__________________________________________________________________________________________________\n",
      "conv2d_3 (Conv2D)               (None, 32, 32, 16)   2320        activation_2[0][0]               \n",
      "__________________________________________________________________________________________________\n",
      "add_1 (Add)                     (None, 32, 32, 16)   0           activation_1[0][0]               \n",
      "                                                                 conv2d_3[0][0]                   \n",
      "__________________________________________________________________________________________________\n",
      "batch_normalization_3 (BatchNor (None, 32, 32, 16)   64          add_1[0][0]                      \n",
      "__________________________________________________________________________________________________\n",
      "activation_3 (Activation)       (None, 32, 32, 16)   0           batch_normalization_3[0][0]      \n",
      "__________________________________________________________________________________________________\n",
      "conv2d_4 (Conv2D)               (None, 32, 32, 16)   2320        activation_3[0][0]               \n",
      "__________________________________________________________________________________________________\n",
      "batch_normalization_4 (BatchNor (None, 32, 32, 16)   64          conv2d_4[0][0]                   \n",
      "__________________________________________________________________________________________________\n",
      "activation_4 (Activation)       (None, 32, 32, 16)   0           batch_normalization_4[0][0]      \n",
      "__________________________________________________________________________________________________\n",
      "conv2d_5 (Conv2D)               (None, 32, 32, 16)   2320        activation_4[0][0]               \n",
      "__________________________________________________________________________________________________\n",
      "add_2 (Add)                     (None, 32, 32, 16)   0           add_1[0][0]                      \n",
      "                                                                 conv2d_5[0][0]                   \n",
      "__________________________________________________________________________________________________\n",
      "batch_normalization_5 (BatchNor (None, 32, 32, 16)   64          add_2[0][0]                      \n",
      "__________________________________________________________________________________________________\n",
      "activation_5 (Activation)       (None, 32, 32, 16)   0           batch_normalization_5[0][0]      \n",
      "__________________________________________________________________________________________________\n",
      "conv2d_6 (Conv2D)               (None, 32, 32, 16)   2320        activation_5[0][0]               \n",
      "__________________________________________________________________________________________________\n",
      "batch_normalization_6 (BatchNor (None, 32, 32, 16)   64          conv2d_6[0][0]                   \n",
      "__________________________________________________________________________________________________\n",
      "activation_6 (Activation)       (None, 32, 32, 16)   0           batch_normalization_6[0][0]      \n",
      "__________________________________________________________________________________________________\n",
      "conv2d_7 (Conv2D)               (None, 32, 32, 16)   2320        activation_6[0][0]               \n",
      "__________________________________________________________________________________________________\n",
      "add_3 (Add)                     (None, 32, 32, 16)   0           add_2[0][0]                      \n",
      "                                                                 conv2d_7[0][0]                   \n",
      "__________________________________________________________________________________________________\n",
      "batch_normalization_7 (BatchNor (None, 32, 32, 16)   64          add_3[0][0]                      \n",
      "__________________________________________________________________________________________________\n",
      "activation_7 (Activation)       (None, 32, 32, 16)   0           batch_normalization_7[0][0]      \n",
      "__________________________________________________________________________________________________\n",
      "conv2d_8 (Conv2D)               (None, 32, 32, 16)   2320        activation_7[0][0]               \n",
      "__________________________________________________________________________________________________\n",
      "batch_normalization_8 (BatchNor (None, 32, 32, 16)   64          conv2d_8[0][0]                   \n",
      "__________________________________________________________________________________________________\n",
      "activation_8 (Activation)       (None, 32, 32, 16)   0           batch_normalization_8[0][0]      \n",
      "__________________________________________________________________________________________________\n",
      "conv2d_9 (Conv2D)               (None, 32, 32, 16)   2320        activation_8[0][0]               \n",
      "__________________________________________________________________________________________________\n",
      "add_4 (Add)                     (None, 32, 32, 16)   0           add_3[0][0]                      \n",
      "                                                                 conv2d_9[0][0]                   \n",
      "__________________________________________________________________________________________________\n",
      "batch_normalization_9 (BatchNor (None, 32, 32, 16)   64          add_4[0][0]                      \n",
      "__________________________________________________________________________________________________\n",
      "activation_9 (Activation)       (None, 32, 32, 16)   0           batch_normalization_9[0][0]      \n",
      "__________________________________________________________________________________________________\n",
      "conv2d_10 (Conv2D)              (None, 32, 32, 16)   2320        activation_9[0][0]               \n",
      "__________________________________________________________________________________________________\n",
      "batch_normalization_10 (BatchNo (None, 32, 32, 16)   64          conv2d_10[0][0]                  \n",
      "__________________________________________________________________________________________________\n",
      "activation_10 (Activation)      (None, 32, 32, 16)   0           batch_normalization_10[0][0]     \n",
      "__________________________________________________________________________________________________\n",
      "conv2d_11 (Conv2D)              (None, 32, 32, 16)   2320        activation_10[0][0]              \n",
      "__________________________________________________________________________________________________\n",
      "add_5 (Add)                     (None, 32, 32, 16)   0           add_4[0][0]                      \n",
      "                                                                 conv2d_11[0][0]                  \n",
      "__________________________________________________________________________________________________\n",
      "batch_normalization_11 (BatchNo (None, 32, 32, 16)   64          add_5[0][0]                      \n",
      "__________________________________________________________________________________________________\n",
      "activation_11 (Activation)      (None, 32, 32, 16)   0           batch_normalization_11[0][0]     \n",
      "__________________________________________________________________________________________________\n",
      "conv2d_12 (Conv2D)              (None, 16, 16, 32)   4640        activation_11[0][0]              \n",
      "__________________________________________________________________________________________________\n",
      "batch_normalization_12 (BatchNo (None, 16, 16, 32)   128         conv2d_12[0][0]                  \n",
      "__________________________________________________________________________________________________\n",
      "activation_12 (Activation)      (None, 16, 16, 32)   0           batch_normalization_12[0][0]     \n",
      "__________________________________________________________________________________________________\n",
      "conv2d_14 (Conv2D)              (None, 16, 16, 32)   544         add_5[0][0]                      \n",
      "__________________________________________________________________________________________________\n",
      "conv2d_13 (Conv2D)              (None, 16, 16, 32)   9248        activation_12[0][0]              \n",
      "__________________________________________________________________________________________________\n",
      "add_6 (Add)                     (None, 16, 16, 32)   0           conv2d_14[0][0]                  \n",
      "                                                                 conv2d_13[0][0]                  \n",
      "__________________________________________________________________________________________________\n",
      "batch_normalization_13 (BatchNo (None, 16, 16, 32)   128         add_6[0][0]                      \n",
      "__________________________________________________________________________________________________\n",
      "activation_13 (Activation)      (None, 16, 16, 32)   0           batch_normalization_13[0][0]     \n",
      "__________________________________________________________________________________________________\n",
      "conv2d_15 (Conv2D)              (None, 16, 16, 32)   9248        activation_13[0][0]              \n",
      "__________________________________________________________________________________________________\n",
      "batch_normalization_14 (BatchNo (None, 16, 16, 32)   128         conv2d_15[0][0]                  \n",
      "__________________________________________________________________________________________________\n",
      "activation_14 (Activation)      (None, 16, 16, 32)   0           batch_normalization_14[0][0]     \n",
      "__________________________________________________________________________________________________\n",
      "conv2d_16 (Conv2D)              (None, 16, 16, 32)   9248        activation_14[0][0]              \n",
      "__________________________________________________________________________________________________\n",
      "add_7 (Add)                     (None, 16, 16, 32)   0           add_6[0][0]                      \n",
      "                                                                 conv2d_16[0][0]                  \n",
      "__________________________________________________________________________________________________\n",
      "batch_normalization_15 (BatchNo (None, 16, 16, 32)   128         add_7[0][0]                      \n",
      "__________________________________________________________________________________________________\n",
      "activation_15 (Activation)      (None, 16, 16, 32)   0           batch_normalization_15[0][0]     \n",
      "__________________________________________________________________________________________________\n",
      "conv2d_17 (Conv2D)              (None, 16, 16, 32)   9248        activation_15[0][0]              \n",
      "__________________________________________________________________________________________________\n",
      "batch_normalization_16 (BatchNo (None, 16, 16, 32)   128         conv2d_17[0][0]                  \n",
      "__________________________________________________________________________________________________\n",
      "activation_16 (Activation)      (None, 16, 16, 32)   0           batch_normalization_16[0][0]     \n",
      "__________________________________________________________________________________________________\n",
      "conv2d_18 (Conv2D)              (None, 16, 16, 32)   9248        activation_16[0][0]              \n",
      "__________________________________________________________________________________________________\n",
      "add_8 (Add)                     (None, 16, 16, 32)   0           add_7[0][0]                      \n",
      "                                                                 conv2d_18[0][0]                  \n",
      "__________________________________________________________________________________________________\n",
      "batch_normalization_17 (BatchNo (None, 16, 16, 32)   128         add_8[0][0]                      \n",
      "__________________________________________________________________________________________________\n",
      "activation_17 (Activation)      (None, 16, 16, 32)   0           batch_normalization_17[0][0]     \n",
      "__________________________________________________________________________________________________\n",
      "conv2d_19 (Conv2D)              (None, 16, 16, 32)   9248        activation_17[0][0]              \n",
      "__________________________________________________________________________________________________\n",
      "batch_normalization_18 (BatchNo (None, 16, 16, 32)   128         conv2d_19[0][0]                  \n",
      "__________________________________________________________________________________________________\n",
      "activation_18 (Activation)      (None, 16, 16, 32)   0           batch_normalization_18[0][0]     \n",
      "__________________________________________________________________________________________________\n",
      "conv2d_20 (Conv2D)              (None, 16, 16, 32)   9248        activation_18[0][0]              \n",
      "__________________________________________________________________________________________________\n",
      "add_9 (Add)                     (None, 16, 16, 32)   0           add_8[0][0]                      \n",
      "                                                                 conv2d_20[0][0]                  \n",
      "__________________________________________________________________________________________________\n",
      "batch_normalization_19 (BatchNo (None, 16, 16, 32)   128         add_9[0][0]                      \n",
      "__________________________________________________________________________________________________\n",
      "activation_19 (Activation)      (None, 16, 16, 32)   0           batch_normalization_19[0][0]     \n",
      "__________________________________________________________________________________________________\n",
      "conv2d_21 (Conv2D)              (None, 16, 16, 32)   9248        activation_19[0][0]              \n",
      "__________________________________________________________________________________________________\n",
      "batch_normalization_20 (BatchNo (None, 16, 16, 32)   128         conv2d_21[0][0]                  \n",
      "__________________________________________________________________________________________________\n",
      "activation_20 (Activation)      (None, 16, 16, 32)   0           batch_normalization_20[0][0]     \n",
      "__________________________________________________________________________________________________\n",
      "conv2d_22 (Conv2D)              (None, 16, 16, 32)   9248        activation_20[0][0]              \n",
      "__________________________________________________________________________________________________\n",
      "add_10 (Add)                    (None, 16, 16, 32)   0           add_9[0][0]                      \n",
      "                                                                 conv2d_22[0][0]                  \n",
      "__________________________________________________________________________________________________\n",
      "batch_normalization_21 (BatchNo (None, 16, 16, 32)   128         add_10[0][0]                     \n",
      "__________________________________________________________________________________________________\n",
      "activation_21 (Activation)      (None, 16, 16, 32)   0           batch_normalization_21[0][0]     \n",
      "__________________________________________________________________________________________________\n",
      "conv2d_23 (Conv2D)              (None, 8, 8, 64)     18496       activation_21[0][0]              \n",
      "__________________________________________________________________________________________________\n",
      "batch_normalization_22 (BatchNo (None, 8, 8, 64)     256         conv2d_23[0][0]                  \n",
      "__________________________________________________________________________________________________\n",
      "activation_22 (Activation)      (None, 8, 8, 64)     0           batch_normalization_22[0][0]     \n",
      "__________________________________________________________________________________________________\n",
      "conv2d_25 (Conv2D)              (None, 8, 8, 64)     2112        add_10[0][0]                     \n",
      "__________________________________________________________________________________________________\n",
      "conv2d_24 (Conv2D)              (None, 8, 8, 64)     36928       activation_22[0][0]              \n",
      "__________________________________________________________________________________________________\n",
      "add_11 (Add)                    (None, 8, 8, 64)     0           conv2d_25[0][0]                  \n",
      "                                                                 conv2d_24[0][0]                  \n",
      "__________________________________________________________________________________________________\n",
      "batch_normalization_23 (BatchNo (None, 8, 8, 64)     256         add_11[0][0]                     \n",
      "__________________________________________________________________________________________________\n",
      "activation_23 (Activation)      (None, 8, 8, 64)     0           batch_normalization_23[0][0]     \n",
      "__________________________________________________________________________________________________\n",
      "conv2d_26 (Conv2D)              (None, 8, 8, 64)     36928       activation_23[0][0]              \n",
      "__________________________________________________________________________________________________\n",
      "batch_normalization_24 (BatchNo (None, 8, 8, 64)     256         conv2d_26[0][0]                  \n",
      "__________________________________________________________________________________________________\n",
      "activation_24 (Activation)      (None, 8, 8, 64)     0           batch_normalization_24[0][0]     \n",
      "__________________________________________________________________________________________________\n",
      "conv2d_27 (Conv2D)              (None, 8, 8, 64)     36928       activation_24[0][0]              \n",
      "__________________________________________________________________________________________________\n",
      "add_12 (Add)                    (None, 8, 8, 64)     0           add_11[0][0]                     \n",
      "                                                                 conv2d_27[0][0]                  \n",
      "__________________________________________________________________________________________________\n",
      "batch_normalization_25 (BatchNo (None, 8, 8, 64)     256         add_12[0][0]                     \n",
      "__________________________________________________________________________________________________\n",
      "activation_25 (Activation)      (None, 8, 8, 64)     0           batch_normalization_25[0][0]     \n",
      "__________________________________________________________________________________________________\n",
      "conv2d_28 (Conv2D)              (None, 8, 8, 64)     36928       activation_25[0][0]              \n",
      "__________________________________________________________________________________________________\n",
      "batch_normalization_26 (BatchNo (None, 8, 8, 64)     256         conv2d_28[0][0]                  \n",
      "__________________________________________________________________________________________________\n",
      "activation_26 (Activation)      (None, 8, 8, 64)     0           batch_normalization_26[0][0]     \n",
      "__________________________________________________________________________________________________\n",
      "conv2d_29 (Conv2D)              (None, 8, 8, 64)     36928       activation_26[0][0]              \n",
      "__________________________________________________________________________________________________\n",
      "add_13 (Add)                    (None, 8, 8, 64)     0           add_12[0][0]                     \n",
      "                                                                 conv2d_29[0][0]                  \n",
      "__________________________________________________________________________________________________\n",
      "batch_normalization_27 (BatchNo (None, 8, 8, 64)     256         add_13[0][0]                     \n",
      "__________________________________________________________________________________________________\n",
      "activation_27 (Activation)      (None, 8, 8, 64)     0           batch_normalization_27[0][0]     \n",
      "__________________________________________________________________________________________________\n",
      "conv2d_30 (Conv2D)              (None, 8, 8, 64)     36928       activation_27[0][0]              \n",
      "__________________________________________________________________________________________________\n",
      "batch_normalization_28 (BatchNo (None, 8, 8, 64)     256         conv2d_30[0][0]                  \n",
      "__________________________________________________________________________________________________\n",
      "activation_28 (Activation)      (None, 8, 8, 64)     0           batch_normalization_28[0][0]     \n",
      "__________________________________________________________________________________________________\n",
      "conv2d_31 (Conv2D)              (None, 8, 8, 64)     36928       activation_28[0][0]              \n",
      "__________________________________________________________________________________________________\n",
      "add_14 (Add)                    (None, 8, 8, 64)     0           add_13[0][0]                     \n",
      "                                                                 conv2d_31[0][0]                  \n",
      "__________________________________________________________________________________________________\n",
      "batch_normalization_29 (BatchNo (None, 8, 8, 64)     256         add_14[0][0]                     \n",
      "__________________________________________________________________________________________________\n",
      "activation_29 (Activation)      (None, 8, 8, 64)     0           batch_normalization_29[0][0]     \n",
      "__________________________________________________________________________________________________\n",
      "conv2d_32 (Conv2D)              (None, 8, 8, 64)     36928       activation_29[0][0]              \n",
      "__________________________________________________________________________________________________\n",
      "batch_normalization_30 (BatchNo (None, 8, 8, 64)     256         conv2d_32[0][0]                  \n",
      "__________________________________________________________________________________________________\n",
      "activation_30 (Activation)      (None, 8, 8, 64)     0           batch_normalization_30[0][0]     \n",
      "__________________________________________________________________________________________________\n",
      "conv2d_33 (Conv2D)              (None, 8, 8, 64)     36928       activation_30[0][0]              \n",
      "__________________________________________________________________________________________________\n",
      "add_15 (Add)                    (None, 8, 8, 64)     0           add_14[0][0]                     \n",
      "                                                                 conv2d_33[0][0]                  \n",
      "__________________________________________________________________________________________________\n",
      "batch_normalization_31 (BatchNo (None, 8, 8, 64)     256         add_15[0][0]                     \n",
      "__________________________________________________________________________________________________\n",
      "activation_31 (Activation)      (None, 8, 8, 64)     0           batch_normalization_31[0][0]     \n",
      "__________________________________________________________________________________________________\n",
      "dropout_1 (Dropout)             (None, 8, 8, 64)     0           activation_31[0][0]              \n",
      "__________________________________________________________________________________________________\n",
      "average_pooling2d_1 (AveragePoo (None, 1, 1, 64)     0           dropout_1[0][0]                  \n",
      "__________________________________________________________________________________________________\n",
      "flatten_1 (Flatten)             (None, 64)           0           average_pooling2d_1[0][0]        \n",
      "__________________________________________________________________________________________________\n",
      "classifier (Dense)              (None, 10)           650         flatten_1[0][0]                  \n",
      "==================================================================================================\n",
      "Total params: 470,218\n",
      "Trainable params: 467,946\n",
      "Non-trainable params: 2,272\n",
      "__________________________________________________________________________________________________\n"
     ]
    }
   ],
   "source": [
    "classifier_model.summary()"
   ]
  },
  {
   "cell_type": "markdown",
   "metadata": {},
   "source": [
    "Evaluate the classifier on the first n_test test images:"
   ]
  },
  {
   "cell_type": "code",
   "execution_count": 5,
   "metadata": {},
   "outputs": [
    {
     "name": "stdout",
     "output_type": "stream",
     "text": [
      "Original test data (first n_test images):\n",
      "Correctly classified: 376\n",
      "Incorrectly classified: 24\n"
     ]
    }
   ],
   "source": [
    "x_test_pred = np.argmax(classifier.predict(x_test[:n_test]), axis=1)\n",
    "nb_correct_pred = np.sum(x_test_pred == np.argmax(y_test[:n_test], axis=1))\n",
    "\n",
    "print(\"Original test data (first n_test images):\")\n",
    "print(\"Correctly classified: {}\".format(nb_correct_pred))\n",
    "print(\"Incorrectly classified: {}\".format(n_test-nb_correct_pred))"
   ]
  },
  {
   "cell_type": "markdown",
   "metadata": {},
   "source": [
    "For illustration purposes, look at the first 9 images. (In brackets: true labels.)"
   ]
  },
  {
   "cell_type": "code",
   "execution_count": 6,
   "metadata": {},
   "outputs": [
    {
     "data": {
      "image/png": "[encoded data removed]",
      "text/plain": [
       "<Figure size 720x720 with 9 Axes>"
      ]
     },
     "metadata": {
      "needs_background": "light"
     },
     "output_type": "display_data"
    }
   ],
   "source": [
    "plt.figure(figsize=(10,10))\n",
    "for i in range(0, 9):\n",
    "    pred_label, true_label = class_descr[x_test_pred[i]], class_descr[np.argmax(y_test[i])]\n",
    "    plt.subplot(330 + 1 + i)\n",
    "    fig=plt.imshow(x_test[i])\n",
    "    fig.axes.get_xaxis().set_visible(False)\n",
    "    fig.axes.get_yaxis().set_visible(False)\n",
    "    fig.axes.text(0.5, -0.1, pred_label + \" (\" + true_label + \")\", fontsize=12, transform=fig.axes.transAxes, \n",
    "                  horizontalalignment='center')"
   ]
  },
  {
   "cell_type": "markdown",
   "metadata": {},
   "source": [
    "Generate some adversarial samples:"
   ]
  },
  {
   "cell_type": "code",
   "execution_count": 7,
   "metadata": {},
   "outputs": [],
   "source": [
    "attacker = FastGradientMethod(classifier, eps=0.05)\n",
    "x_test_adv = attacker.generate(x_test[:n_test]) # this takes about two minutes"
   ]
  },
  {
   "cell_type": "markdown",
   "metadata": {},
   "source": [
    "Evaluate the classifier on n_test adversarial samples:"
   ]
  },
  {
   "cell_type": "code",
   "execution_count": 8,
   "metadata": {},
   "outputs": [
    {
     "name": "stdout",
     "output_type": "stream",
     "text": [
      "Adversarial test data (first n_test images):\n",
      "Correctly classified: 86\n",
      "Incorrectly classified: 314\n"
     ]
    }
   ],
   "source": [
    "x_test_adv_pred = np.argmax(classifier.predict(x_test_adv), axis=1)\n",
    "nb_correct_adv_pred = np.sum(x_test_adv_pred == np.argmax(y_test[:n_test], axis=1))\n",
    "\n",
    "print(\"Adversarial test data (first n_test images):\")\n",
    "print(\"Correctly classified: {}\".format(nb_correct_adv_pred))\n",
    "print(\"Incorrectly classified: {}\".format(n_test-nb_correct_adv_pred))"
   ]
  },
  {
   "cell_type": "markdown",
   "metadata": {},
   "source": [
    "Now plot the adversarial images and their predicted labels (in brackets: true labels)."
   ]
  },
  {
   "cell_type": "code",
   "execution_count": 9,
   "metadata": {},
   "outputs": [
    {
     "data": {
      "image/png": "[encoded data removed]",
      "text/plain": [
       "<Figure size 720x720 with 9 Axes>"
      ]
     },
     "metadata": {
      "needs_background": "light"
     },
     "output_type": "display_data"
    }
   ],
   "source": [
    "plt.figure(figsize=(10,10))\n",
    "for i in range(0, 9):\n",
    "    pred_label, true_label = class_descr[x_test_adv_pred[i]], class_descr[np.argmax(y_test[i])]\n",
    "    plt.subplot(330 + 1 + i)\n",
    "    fig=plt.imshow(x_test_adv[i])\n",
    "    fig.axes.get_xaxis().set_visible(False)\n",
    "    fig.axes.get_yaxis().set_visible(False)\n",
    "    fig.axes.text(0.5, -0.1, pred_label + \" (\" + true_label + \")\", fontsize=12, transform=fig.axes.transAxes, \n",
    "                  horizontalalignment='center')"
   ]
  },
  {
   "cell_type": "markdown",
   "metadata": {},
   "source": [
    "<a id=\"detector\"></a>\n",
    "## 3. Generate some adversarial images"
   ]
  },
  {
   "cell_type": "code",
   "execution_count": 10,
   "metadata": {},
   "outputs": [
    {
     "name": "stdout",
     "output_type": "stream",
     "text": [
      "Generating 400 attacks for eps=0.00\n",
      "Generating 400 attacks for eps=0.01\n",
      "Generating 400 attacks for eps=0.02\n",
      "Generating 400 attacks for eps=0.03\n",
      "Generating 400 attacks for eps=0.04\n",
      "Generating 400 attacks for eps=0.05\n",
      "Generating 400 attacks for eps=0.10\n",
      "Generating 400 attacks for eps=0.15\n",
      "Generating 400 attacks for eps=0.20\n",
      "Generating 400 attacks for eps=0.25\n",
      "Generating 400 attacks for eps=0.30\n",
      "Generating 400 attacks for eps=0.35\n",
      "Generating 400 attacks for eps=0.40\n",
      "Generating 400 attacks for eps=0.45\n",
      "Generating 400 attacks for eps=0.50\n"
     ]
    }
   ],
   "source": [
    "eps_range = [0, 0.01, 0.02, 0.03, 0.04, 0.05, 0.1, 0.15, 0.2, 0.25, 0.3, 0.35, 0.4, 0.45, 0.5]\n",
    "all_x_test_adv = {}\n",
    "\n",
    "for eps in eps_range:\n",
    "    print(\"Generating %d attacks for eps=%.2f\" % (n_test, eps))\n",
    "    if eps > 0:\n",
    "        attacker.set_params(**{'eps': eps})\n",
    "        all_x_test_adv[eps] = attacker.generate(x_test)\n",
    "    else:\n",
    "        all_x_test_adv[eps] = x_test"
   ]
  },
  {
   "cell_type": "code",
   "execution_count": 11,
   "metadata": {},
   "outputs": [],
   "source": [
    "# generate some data for supervised detectors\n",
    "attacker.set_params(**{'eps': 0.05})\n",
    "x_train_adv = attacker.generate(x_train)"
   ]
  },
  {
   "cell_type": "markdown",
   "metadata": {},
   "source": [
    "<a id=\"crazy\"></a>\n",
    "## 5. Crazy stuff\n"
   ]
  },
  {
   "cell_type": "code",
   "execution_count": 24,
   "metadata": {},
   "outputs": [],
   "source": [
    "from elvis_lib import LIDDetector, LIDDetectorBickel, RawActivationsDetector"
   ]
  },
  {
   "cell_type": "code",
   "execution_count": 110,
   "metadata": {},
   "outputs": [
    {
     "name": "stdout",
     "output_type": "stream",
     "text": [
      "Building activation model...\n",
      "Fitting PCA(copy=True, iterated_power='auto', n_components=20, random_state=None,\n",
      "    svd_solver='auto', tol=0.0, whiten=False) to layer 'input_1'...\n",
      "Fitting PCA(copy=True, iterated_power='auto', n_components=20, random_state=None,\n",
      "    svd_solver='auto', tol=0.0, whiten=False) to layer 'conv2d_8'...\n",
      "Fitting OneClassSVM(cache_size=200, coef0=0.0, degree=3, gamma='scale', kernel='rbf',\n",
      "            max_iter=-1, nu=0.5, shrinking=True, tol=0.001, verbose=False)..\n",
      "Building activation model...\n",
      "Fitting PCA(copy=True, iterated_power='auto', n_components=20, random_state=None,\n",
      "    svd_solver='auto', tol=0.0, whiten=False) to layer 'input_1'...\n",
      "Fitting PCA(copy=True, iterated_power='auto', n_components=20, random_state=None,\n",
      "    svd_solver='auto', tol=0.0, whiten=False) to layer 'conv2d_8'...\n"
     ]
    },
    {
     "ename": "KeyboardInterrupt",
     "evalue": "",
     "output_type": "error",
     "traceback": [
      "\u001b[0;31m---------------------------------------------------------------------------\u001b[0m",
      "\u001b[0;31mKeyboardInterrupt\u001b[0m                         Traceback (most recent call last)",
      "\u001b[0;32m<ipython-input-110-3c640e442fc8>\u001b[0m in \u001b[0;36m<module>\u001b[0;34m\u001b[0m\n\u001b[1;32m     10\u001b[0m                                                      \u001b[0mn_components\u001b[0m\u001b[0;34m=\u001b[0m\u001b[0mn_components\u001b[0m\u001b[0;34m,\u001b[0m\u001b[0;34m\u001b[0m\u001b[0;34m\u001b[0m\u001b[0m\n\u001b[1;32m     11\u001b[0m                                                      \u001b[0mn_jobs\u001b[0m\u001b[0;34m=\u001b[0m\u001b[0mn_jobs\u001b[0m\u001b[0;34m)\u001b[0m\u001b[0;34m.\u001b[0m\u001b[0mfit\u001b[0m\u001b[0;34m(\u001b[0m\u001b[0mx_train_sup_detector\u001b[0m\u001b[0;34m,\u001b[0m\u001b[0;34m\u001b[0m\u001b[0;34m\u001b[0m\u001b[0m\n\u001b[0;32m---> 12\u001b[0;31m                                                                         y_train_sup_detector)\n\u001b[0m\u001b[1;32m     13\u001b[0m detectors[\"unsupervised_lid\"] = LIDDetector(classifier_model,\n\u001b[1;32m     14\u001b[0m                                             \u001b[0mlayer_names\u001b[0m\u001b[0;34m=\u001b[0m\u001b[0mlayer_names\u001b[0m\u001b[0;34m,\u001b[0m\u001b[0;34m\u001b[0m\u001b[0;34m\u001b[0m\u001b[0m\n",
      "\u001b[0;32m~/CODE/FORKED/adversarial-robustness-toolbox/notebooks/elvis_lib/simple_detectors.py\u001b[0m in \u001b[0;36mfit\u001b[0;34m(self, X, y)\u001b[0m\n\u001b[1;32m     31\u001b[0m         \"\"\"\n\u001b[1;32m     32\u001b[0m         \u001b[0m_BaseDetector\u001b[0m\u001b[0;34m.\u001b[0m\u001b[0mfit\u001b[0m\u001b[0;34m(\u001b[0m\u001b[0mself\u001b[0m\u001b[0;34m,\u001b[0m \u001b[0mX\u001b[0m\u001b[0;34m)\u001b[0m\u001b[0;34m\u001b[0m\u001b[0;34m\u001b[0m\u001b[0m\n\u001b[0;32m---> 33\u001b[0;31m         \u001b[0mcodes\u001b[0m \u001b[0;34m=\u001b[0m \u001b[0mself\u001b[0m\u001b[0;34m.\u001b[0m\u001b[0mtransform\u001b[0m\u001b[0;34m(\u001b[0m\u001b[0mX\u001b[0m\u001b[0;34m)\u001b[0m\u001b[0;34m\u001b[0m\u001b[0;34m\u001b[0m\u001b[0m\n\u001b[0m\u001b[1;32m     34\u001b[0m \u001b[0;34m\u001b[0m\u001b[0m\n\u001b[1;32m     35\u001b[0m         \u001b[0;32mif\u001b[0m \u001b[0my\u001b[0m \u001b[0;32mis\u001b[0m \u001b[0;32mNone\u001b[0m\u001b[0;34m:\u001b[0m\u001b[0;34m\u001b[0m\u001b[0;34m\u001b[0m\u001b[0m\n",
      "\u001b[0;32m~/CODE/FORKED/adversarial-robustness-toolbox/notebooks/elvis_lib/simple_detectors.py\u001b[0m in \u001b[0;36mtransform\u001b[0;34m(self, X)\u001b[0m\n\u001b[1;32m     20\u001b[0m         \u001b[0mGet\u001b[0m \u001b[0mdimensionality\u001b[0m\u001b[0;34m-\u001b[0m\u001b[0mreduced\u001b[0m \u001b[0mintermediate\u001b[0m \u001b[0mactivations\u001b[0m \u001b[0mof\u001b[0m \u001b[0mhost\u001b[0m \u001b[0mclassifier\u001b[0m\u001b[0;34m.\u001b[0m\u001b[0;34m\u001b[0m\u001b[0;34m\u001b[0m\u001b[0m\n\u001b[1;32m     21\u001b[0m         \"\"\"\n\u001b[0;32m---> 22\u001b[0;31m         \u001b[0mactivations\u001b[0m \u001b[0;34m=\u001b[0m \u001b[0mself\u001b[0m\u001b[0;34m.\u001b[0m\u001b[0mget_activations\u001b[0m\u001b[0;34m(\u001b[0m\u001b[0mX\u001b[0m\u001b[0;34m)\u001b[0m\u001b[0;34m\u001b[0m\u001b[0;34m\u001b[0m\u001b[0m\n\u001b[0m\u001b[1;32m     23\u001b[0m         \u001b[0;32mreturn\u001b[0m \u001b[0mnp\u001b[0m\u001b[0;34m.\u001b[0m\u001b[0mconcatenate\u001b[0m\u001b[0;34m(\u001b[0m\u001b[0mlist\u001b[0m\u001b[0;34m(\u001b[0m\u001b[0mactivations\u001b[0m\u001b[0;34m.\u001b[0m\u001b[0mvalues\u001b[0m\u001b[0;34m(\u001b[0m\u001b[0;34m)\u001b[0m\u001b[0;34m)\u001b[0m\u001b[0;34m,\u001b[0m \u001b[0maxis\u001b[0m\u001b[0;34m=\u001b[0m\u001b[0;36m1\u001b[0m\u001b[0;34m)\u001b[0m\u001b[0;34m\u001b[0m\u001b[0;34m\u001b[0m\u001b[0m\n\u001b[1;32m     24\u001b[0m \u001b[0;34m\u001b[0m\u001b[0m\n",
      "\u001b[0;32m~/CODE/FORKED/adversarial-robustness-toolbox/notebooks/elvis_lib/_base_detector.py\u001b[0m in \u001b[0;36mget_activations\u001b[0;34m(self, X)\u001b[0m\n\u001b[1;32m     41\u001b[0m \u001b[0;34m\u001b[0m\u001b[0m\n\u001b[1;32m     42\u001b[0m     \u001b[0;32mdef\u001b[0m \u001b[0mget_activations\u001b[0m\u001b[0;34m(\u001b[0m\u001b[0mself\u001b[0m\u001b[0;34m,\u001b[0m \u001b[0mX\u001b[0m\u001b[0;34m)\u001b[0m\u001b[0;34m:\u001b[0m\u001b[0;34m\u001b[0m\u001b[0;34m\u001b[0m\u001b[0m\n\u001b[0;32m---> 43\u001b[0;31m         \u001b[0mactivations\u001b[0m \u001b[0;34m=\u001b[0m \u001b[0mself\u001b[0m\u001b[0;34m.\u001b[0m\u001b[0mactivation_model_\u001b[0m\u001b[0;34m.\u001b[0m\u001b[0mpredict\u001b[0m\u001b[0;34m(\u001b[0m\u001b[0mX\u001b[0m\u001b[0;34m)\u001b[0m\u001b[0;34m\u001b[0m\u001b[0;34m\u001b[0m\u001b[0m\n\u001b[0m\u001b[1;32m     44\u001b[0m         \u001b[0;32mif\u001b[0m \u001b[0misinstance\u001b[0m\u001b[0;34m(\u001b[0m\u001b[0mactivations\u001b[0m\u001b[0;34m,\u001b[0m \u001b[0mnp\u001b[0m\u001b[0;34m.\u001b[0m\u001b[0mndarray\u001b[0m\u001b[0;34m)\u001b[0m\u001b[0;34m:\u001b[0m\u001b[0;34m\u001b[0m\u001b[0;34m\u001b[0m\u001b[0m\n\u001b[1;32m     45\u001b[0m             \u001b[0;31m# XXX fix keras wahala\u001b[0m\u001b[0;34m\u001b[0m\u001b[0;34m\u001b[0m\u001b[0;34m\u001b[0m\u001b[0m\n",
      "\u001b[0;32m~/anaconda3/envs/art/lib/python3.7/site-packages/keras/engine/training.py\u001b[0m in \u001b[0;36mpredict\u001b[0;34m(self, x, batch_size, verbose, steps, callbacks, max_queue_size, workers, use_multiprocessing)\u001b[0m\n\u001b[1;32m   1460\u001b[0m                                             \u001b[0mverbose\u001b[0m\u001b[0;34m=\u001b[0m\u001b[0mverbose\u001b[0m\u001b[0;34m,\u001b[0m\u001b[0;34m\u001b[0m\u001b[0;34m\u001b[0m\u001b[0m\n\u001b[1;32m   1461\u001b[0m                                             \u001b[0msteps\u001b[0m\u001b[0;34m=\u001b[0m\u001b[0msteps\u001b[0m\u001b[0;34m,\u001b[0m\u001b[0;34m\u001b[0m\u001b[0;34m\u001b[0m\u001b[0m\n\u001b[0;32m-> 1462\u001b[0;31m                                             callbacks=callbacks)\n\u001b[0m\u001b[1;32m   1463\u001b[0m \u001b[0;34m\u001b[0m\u001b[0m\n\u001b[1;32m   1464\u001b[0m     def train_on_batch(self, x, y,\n",
      "\u001b[0;32m~/anaconda3/envs/art/lib/python3.7/site-packages/keras/engine/training_arrays.py\u001b[0m in \u001b[0;36mpredict_loop\u001b[0;34m(model, f, ins, batch_size, verbose, steps, callbacks)\u001b[0m\n\u001b[1;32m    322\u001b[0m             \u001b[0mbatch_logs\u001b[0m \u001b[0;34m=\u001b[0m \u001b[0;34m{\u001b[0m\u001b[0;34m'batch'\u001b[0m\u001b[0;34m:\u001b[0m \u001b[0mbatch_index\u001b[0m\u001b[0;34m,\u001b[0m \u001b[0;34m'size'\u001b[0m\u001b[0;34m:\u001b[0m \u001b[0mlen\u001b[0m\u001b[0;34m(\u001b[0m\u001b[0mbatch_ids\u001b[0m\u001b[0;34m)\u001b[0m\u001b[0;34m}\u001b[0m\u001b[0;34m\u001b[0m\u001b[0;34m\u001b[0m\u001b[0m\n\u001b[1;32m    323\u001b[0m             \u001b[0mcallbacks\u001b[0m\u001b[0;34m.\u001b[0m\u001b[0m_call_batch_hook\u001b[0m\u001b[0;34m(\u001b[0m\u001b[0;34m'predict'\u001b[0m\u001b[0;34m,\u001b[0m \u001b[0;34m'begin'\u001b[0m\u001b[0;34m,\u001b[0m \u001b[0mbatch_index\u001b[0m\u001b[0;34m,\u001b[0m \u001b[0mbatch_logs\u001b[0m\u001b[0;34m)\u001b[0m\u001b[0;34m\u001b[0m\u001b[0;34m\u001b[0m\u001b[0m\n\u001b[0;32m--> 324\u001b[0;31m             \u001b[0mbatch_outs\u001b[0m \u001b[0;34m=\u001b[0m \u001b[0mf\u001b[0m\u001b[0;34m(\u001b[0m\u001b[0mins_batch\u001b[0m\u001b[0;34m)\u001b[0m\u001b[0;34m\u001b[0m\u001b[0;34m\u001b[0m\u001b[0m\n\u001b[0m\u001b[1;32m    325\u001b[0m             \u001b[0mbatch_outs\u001b[0m \u001b[0;34m=\u001b[0m \u001b[0mto_list\u001b[0m\u001b[0;34m(\u001b[0m\u001b[0mbatch_outs\u001b[0m\u001b[0;34m)\u001b[0m\u001b[0;34m\u001b[0m\u001b[0;34m\u001b[0m\u001b[0m\n\u001b[1;32m    326\u001b[0m             \u001b[0;32mif\u001b[0m \u001b[0mbatch_index\u001b[0m \u001b[0;34m==\u001b[0m \u001b[0;36m0\u001b[0m\u001b[0;34m:\u001b[0m\u001b[0;34m\u001b[0m\u001b[0;34m\u001b[0m\u001b[0m\n",
      "\u001b[0;32m~/anaconda3/envs/art/lib/python3.7/site-packages/tensorflow_core/python/keras/backend.py\u001b[0m in \u001b[0;36m__call__\u001b[0;34m(self, inputs)\u001b[0m\n\u001b[1;32m   3738\u001b[0m         \u001b[0mvalue\u001b[0m \u001b[0;34m=\u001b[0m \u001b[0mmath_ops\u001b[0m\u001b[0;34m.\u001b[0m\u001b[0mcast\u001b[0m\u001b[0;34m(\u001b[0m\u001b[0mvalue\u001b[0m\u001b[0;34m,\u001b[0m \u001b[0mtensor\u001b[0m\u001b[0;34m.\u001b[0m\u001b[0mdtype\u001b[0m\u001b[0;34m)\u001b[0m\u001b[0;34m\u001b[0m\u001b[0;34m\u001b[0m\u001b[0m\n\u001b[1;32m   3739\u001b[0m       \u001b[0mconverted_inputs\u001b[0m\u001b[0;34m.\u001b[0m\u001b[0mappend\u001b[0m\u001b[0;34m(\u001b[0m\u001b[0mvalue\u001b[0m\u001b[0;34m)\u001b[0m\u001b[0;34m\u001b[0m\u001b[0;34m\u001b[0m\u001b[0m\n\u001b[0;32m-> 3740\u001b[0;31m     \u001b[0moutputs\u001b[0m \u001b[0;34m=\u001b[0m \u001b[0mself\u001b[0m\u001b[0;34m.\u001b[0m\u001b[0m_graph_fn\u001b[0m\u001b[0;34m(\u001b[0m\u001b[0;34m*\u001b[0m\u001b[0mconverted_inputs\u001b[0m\u001b[0;34m)\u001b[0m\u001b[0;34m\u001b[0m\u001b[0;34m\u001b[0m\u001b[0m\n\u001b[0m\u001b[1;32m   3741\u001b[0m \u001b[0;34m\u001b[0m\u001b[0m\n\u001b[1;32m   3742\u001b[0m     \u001b[0;31m# EagerTensor.numpy() will often make a copy to ensure memory safety.\u001b[0m\u001b[0;34m\u001b[0m\u001b[0;34m\u001b[0m\u001b[0;34m\u001b[0m\u001b[0m\n",
      "\u001b[0;32m~/anaconda3/envs/art/lib/python3.7/site-packages/tensorflow_core/python/eager/function.py\u001b[0m in \u001b[0;36m__call__\u001b[0;34m(self, *args, **kwargs)\u001b[0m\n\u001b[1;32m   1079\u001b[0m       \u001b[0mTypeError\u001b[0m\u001b[0;34m:\u001b[0m \u001b[0mFor\u001b[0m \u001b[0minvalid\u001b[0m \u001b[0mpositional\u001b[0m\u001b[0;34m/\u001b[0m\u001b[0mkeyword\u001b[0m \u001b[0margument\u001b[0m \u001b[0mcombinations\u001b[0m\u001b[0;34m.\u001b[0m\u001b[0;34m\u001b[0m\u001b[0;34m\u001b[0m\u001b[0m\n\u001b[1;32m   1080\u001b[0m     \"\"\"\n\u001b[0;32m-> 1081\u001b[0;31m     \u001b[0;32mreturn\u001b[0m \u001b[0mself\u001b[0m\u001b[0;34m.\u001b[0m\u001b[0m_call_impl\u001b[0m\u001b[0;34m(\u001b[0m\u001b[0margs\u001b[0m\u001b[0;34m,\u001b[0m \u001b[0mkwargs\u001b[0m\u001b[0;34m)\u001b[0m\u001b[0;34m\u001b[0m\u001b[0;34m\u001b[0m\u001b[0m\n\u001b[0m\u001b[1;32m   1082\u001b[0m \u001b[0;34m\u001b[0m\u001b[0m\n\u001b[1;32m   1083\u001b[0m   \u001b[0;32mdef\u001b[0m \u001b[0m_call_impl\u001b[0m\u001b[0;34m(\u001b[0m\u001b[0mself\u001b[0m\u001b[0;34m,\u001b[0m \u001b[0margs\u001b[0m\u001b[0;34m,\u001b[0m \u001b[0mkwargs\u001b[0m\u001b[0;34m,\u001b[0m \u001b[0mcancellation_manager\u001b[0m\u001b[0;34m=\u001b[0m\u001b[0;32mNone\u001b[0m\u001b[0;34m)\u001b[0m\u001b[0;34m:\u001b[0m\u001b[0;34m\u001b[0m\u001b[0;34m\u001b[0m\u001b[0m\n",
      "\u001b[0;32m~/anaconda3/envs/art/lib/python3.7/site-packages/tensorflow_core/python/eager/function.py\u001b[0m in \u001b[0;36m_call_impl\u001b[0;34m(self, args, kwargs, cancellation_manager)\u001b[0m\n\u001b[1;32m   1119\u001b[0m       raise TypeError(\"Keyword arguments {} unknown. Expected {}.\".format(\n\u001b[1;32m   1120\u001b[0m           list(kwargs.keys()), list(self._arg_keywords)))\n\u001b[0;32m-> 1121\u001b[0;31m     \u001b[0;32mreturn\u001b[0m \u001b[0mself\u001b[0m\u001b[0;34m.\u001b[0m\u001b[0m_call_flat\u001b[0m\u001b[0;34m(\u001b[0m\u001b[0margs\u001b[0m\u001b[0;34m,\u001b[0m \u001b[0mself\u001b[0m\u001b[0;34m.\u001b[0m\u001b[0mcaptured_inputs\u001b[0m\u001b[0;34m,\u001b[0m \u001b[0mcancellation_manager\u001b[0m\u001b[0;34m)\u001b[0m\u001b[0;34m\u001b[0m\u001b[0;34m\u001b[0m\u001b[0m\n\u001b[0m\u001b[1;32m   1122\u001b[0m \u001b[0;34m\u001b[0m\u001b[0m\n\u001b[1;32m   1123\u001b[0m   \u001b[0;32mdef\u001b[0m \u001b[0m_filtered_call\u001b[0m\u001b[0;34m(\u001b[0m\u001b[0mself\u001b[0m\u001b[0;34m,\u001b[0m \u001b[0margs\u001b[0m\u001b[0;34m,\u001b[0m \u001b[0mkwargs\u001b[0m\u001b[0;34m)\u001b[0m\u001b[0;34m:\u001b[0m\u001b[0;34m\u001b[0m\u001b[0;34m\u001b[0m\u001b[0m\n",
      "\u001b[0;32m~/anaconda3/envs/art/lib/python3.7/site-packages/tensorflow_core/python/eager/function.py\u001b[0m in \u001b[0;36m_call_flat\u001b[0;34m(self, args, captured_inputs, cancellation_manager)\u001b[0m\n\u001b[1;32m   1222\u001b[0m     \u001b[0;32mif\u001b[0m \u001b[0mexecuting_eagerly\u001b[0m\u001b[0;34m:\u001b[0m\u001b[0;34m\u001b[0m\u001b[0;34m\u001b[0m\u001b[0m\n\u001b[1;32m   1223\u001b[0m       flat_outputs = forward_function.call(\n\u001b[0;32m-> 1224\u001b[0;31m           ctx, args, cancellation_manager=cancellation_manager)\n\u001b[0m\u001b[1;32m   1225\u001b[0m     \u001b[0;32melse\u001b[0m\u001b[0;34m:\u001b[0m\u001b[0;34m\u001b[0m\u001b[0;34m\u001b[0m\u001b[0m\n\u001b[1;32m   1226\u001b[0m       \u001b[0mgradient_name\u001b[0m \u001b[0;34m=\u001b[0m \u001b[0mself\u001b[0m\u001b[0;34m.\u001b[0m\u001b[0m_delayed_rewrite_functions\u001b[0m\u001b[0;34m.\u001b[0m\u001b[0mregister\u001b[0m\u001b[0;34m(\u001b[0m\u001b[0;34m)\u001b[0m\u001b[0;34m\u001b[0m\u001b[0;34m\u001b[0m\u001b[0m\n",
      "\u001b[0;32m~/anaconda3/envs/art/lib/python3.7/site-packages/tensorflow_core/python/eager/function.py\u001b[0m in \u001b[0;36mcall\u001b[0;34m(self, ctx, args, cancellation_manager)\u001b[0m\n\u001b[1;32m    509\u001b[0m               \u001b[0minputs\u001b[0m\u001b[0;34m=\u001b[0m\u001b[0margs\u001b[0m\u001b[0;34m,\u001b[0m\u001b[0;34m\u001b[0m\u001b[0;34m\u001b[0m\u001b[0m\n\u001b[1;32m    510\u001b[0m               \u001b[0mattrs\u001b[0m\u001b[0;34m=\u001b[0m\u001b[0;34m(\u001b[0m\u001b[0;34m\"executor_type\"\u001b[0m\u001b[0;34m,\u001b[0m \u001b[0mexecutor_type\u001b[0m\u001b[0;34m,\u001b[0m \u001b[0;34m\"config_proto\"\u001b[0m\u001b[0;34m,\u001b[0m \u001b[0mconfig\u001b[0m\u001b[0;34m)\u001b[0m\u001b[0;34m,\u001b[0m\u001b[0;34m\u001b[0m\u001b[0;34m\u001b[0m\u001b[0m\n\u001b[0;32m--> 511\u001b[0;31m               ctx=ctx)\n\u001b[0m\u001b[1;32m    512\u001b[0m         \u001b[0;32melse\u001b[0m\u001b[0;34m:\u001b[0m\u001b[0;34m\u001b[0m\u001b[0;34m\u001b[0m\u001b[0m\n\u001b[1;32m    513\u001b[0m           outputs = execute.execute_with_cancellation(\n",
      "\u001b[0;32m~/anaconda3/envs/art/lib/python3.7/site-packages/tensorflow_core/python/eager/execute.py\u001b[0m in \u001b[0;36mquick_execute\u001b[0;34m(op_name, num_outputs, inputs, attrs, ctx, name)\u001b[0m\n\u001b[1;32m     59\u001b[0m     tensors = pywrap_tensorflow.TFE_Py_Execute(ctx._handle, device_name,\n\u001b[1;32m     60\u001b[0m                                                \u001b[0mop_name\u001b[0m\u001b[0;34m,\u001b[0m \u001b[0minputs\u001b[0m\u001b[0;34m,\u001b[0m \u001b[0mattrs\u001b[0m\u001b[0;34m,\u001b[0m\u001b[0;34m\u001b[0m\u001b[0;34m\u001b[0m\u001b[0m\n\u001b[0;32m---> 61\u001b[0;31m                                                num_outputs)\n\u001b[0m\u001b[1;32m     62\u001b[0m   \u001b[0;32mexcept\u001b[0m \u001b[0mcore\u001b[0m\u001b[0;34m.\u001b[0m\u001b[0m_NotOkStatusException\u001b[0m \u001b[0;32mas\u001b[0m \u001b[0me\u001b[0m\u001b[0;34m:\u001b[0m\u001b[0;34m\u001b[0m\u001b[0;34m\u001b[0m\u001b[0m\n\u001b[1;32m     63\u001b[0m     \u001b[0;32mif\u001b[0m \u001b[0mname\u001b[0m \u001b[0;32mis\u001b[0m \u001b[0;32mnot\u001b[0m \u001b[0;32mNone\u001b[0m\u001b[0;34m:\u001b[0m\u001b[0;34m\u001b[0m\u001b[0;34m\u001b[0m\u001b[0m\n",
      "\u001b[0;31mKeyboardInterrupt\u001b[0m: "
     ]
    }
   ],
   "source": [
    "detectors = {}\n",
    "layer_names = [\"input_1\"] + [\"conv2d_%d\" % l for l in range(8, 9)]\n",
    "n_components = 20\n",
    "x_train_sup_detector = np.concatenate((x_train, x_train_adv), axis=0)\n",
    "y_train_sup_detector = np.concatenate((-np.ones((len(x_train))), np.ones(len(x_train_adv))))\n",
    "detectors[\"unsupervised_raw\"] = RawActivationsDetector(classifier_model, layer_names=layer_names,\n",
    "                                                       n_components=n_components, n_jobs=n_jobs).fit(x_train)\n",
    "detectors[\"supervised_raw\"] = RawActivationsDetector(classifier_model,\n",
    "                                                     layer_names=layer_names,\n",
    "                                                     n_components=n_components,\n",
    "                                                     n_jobs=n_jobs).fit(x_train_sup_detector,\n",
    "                                                                        y_train_sup_detector)\n",
    "detectors[\"unsupervised_lid\"] = LIDDetector(classifier_model,\n",
    "                                            layer_names=layer_names,\n",
    "                                            n_neighbors=200, n_jobs=n_jobs).fit(x_train)\n",
    "detectors[\"unsupervised_lid2\"] = LIDDetectorBickel(classifier_model, layer_names=layer_names,\n",
    "                                                   k1=180, k2=200).fit(x_train)"
   ]
  },
  {
   "cell_type": "code",
   "execution_count": 140,
   "metadata": {},
   "outputs": [
    {
     "name": "stdout",
     "output_type": "stream",
     "text": [
      "Computing scores for unsupervised_dbscan detector\n",
      "0.50 ==> 1.00\n",
      "0.45 ==> 1.00\n",
      "0.40 ==> 1.00\n",
      "0.35 ==> 1.00\n",
      "0.30 ==> 0.98\n",
      "0.25 ==> 0.92\n",
      "0.20 ==> 0.78\n",
      "0.15 ==> 0.75\n",
      "0.10 ==> 0.75\n",
      "0.05 ==> 0.50\n",
      "0.04 ==> 0.50\n",
      "0.03 ==> 0.50\n",
      "0.02 ==> 0.50\n",
      "0.01 ==> 0.50\n",
      "0.00 ==> 0.50\n",
      "Computing scores for unsupervised_dbscan_eps=30.00 detector\n",
      "0.50 ==> 0.82\n",
      "0.45 ==> 0.82\n",
      "0.40 ==> 0.82\n",
      "0.35 ==> 0.82\n",
      "0.30 ==> 0.82\n",
      "0.25 ==> 0.82\n",
      "0.20 ==> 0.82\n",
      "0.15 ==> 0.82\n",
      "0.10 ==> 0.82\n",
      "0.05 ==> 0.68\n",
      "0.04 ==> 0.62\n",
      "0.03 ==> 0.58\n",
      "0.02 ==> 0.54\n",
      "0.01 ==> 0.51\n",
      "0.00 ==> 0.50\n",
      "Computing scores for unsupervised_dbscan_eps=40.00 detector\n",
      "0.50 ==> 0.99\n",
      "0.45 ==> 0.99\n",
      "0.40 ==> 0.99\n",
      "0.35 ==> 0.99\n",
      "0.30 ==> 0.99\n",
      "0.25 ==> 0.99\n",
      "0.20 ==> 0.96\n",
      "0.15 ==> 0.81\n",
      "0.10 ==> 0.70\n",
      "0.05 ==> 0.56\n",
      "0.04 ==> 0.51\n",
      "0.03 ==> 0.50\n",
      "0.02 ==> 0.47\n",
      "0.01 ==> 0.47\n",
      "0.00 ==> 0.50\n",
      "Computing scores for unsupervised_dbscan_eps=50.00 detector\n",
      "0.50 ==> 1.00\n",
      "0.45 ==> 1.00\n",
      "0.40 ==> 1.00\n",
      "0.35 ==> 1.00\n",
      "0.30 ==> 0.98\n",
      "0.25 ==> 0.91\n",
      "0.20 ==> 0.78\n",
      "0.15 ==> 0.71\n",
      "0.10 ==> 0.50\n",
      "0.05 ==> 0.50\n",
      "0.04 ==> 0.50\n",
      "0.03 ==> 0.50\n",
      "0.02 ==> 0.50\n",
      "0.01 ==> 0.50\n",
      "0.00 ==> 0.50\n",
      "Computing scores for unsupervised_dbscan_eps=60.00 detector\n",
      "0.50 ==> 1.00\n",
      "0.45 ==> 1.00\n",
      "0.40 ==> 0.98\n",
      "0.35 ==> 0.93\n",
      "0.30 ==> 0.84\n",
      "0.25 ==> 0.76\n",
      "0.20 ==> 0.75\n",
      "0.15 ==> 0.50\n",
      "0.10 ==> 0.50\n",
      "0.05 ==> 0.50\n",
      "0.04 ==> 0.50\n",
      "0.03 ==> 0.50\n",
      "0.02 ==> 0.50\n",
      "0.01 ==> 0.50\n",
      "0.00 ==> 0.50\n",
      "Computing scores for unsupervised_dbscan_eps=70.00 detector\n",
      "0.50 ==> 0.98\n",
      "0.45 ==> 0.94\n",
      "0.40 ==> 0.88\n",
      "0.35 ==> 0.80\n",
      "0.30 ==> 0.75\n",
      "0.25 ==> 0.50\n",
      "0.20 ==> 0.50\n",
      "0.15 ==> 0.50\n",
      "0.10 ==> 0.50\n",
      "0.05 ==> 0.50\n",
      "0.04 ==> 0.50\n",
      "0.03 ==> 0.50\n",
      "0.02 ==> 0.50\n",
      "0.01 ==> 0.50\n",
      "0.00 ==> 0.50\n",
      "Computing scores for unsupervised_dbscan_eps=80.00 detector\n",
      "0.50 ==> 0.89\n",
      "0.45 ==> 0.83\n",
      "0.40 ==> 0.77\n",
      "0.35 ==> 0.75\n",
      "0.30 ==> 0.50\n",
      "0.25 ==> 0.50\n",
      "0.20 ==> 0.50\n",
      "0.15 ==> 0.50\n",
      "0.10 ==> 0.50\n",
      "0.05 ==> 0.50\n",
      "0.04 ==> 0.50\n",
      "0.03 ==> 0.50\n",
      "0.02 ==> 0.50\n",
      "0.01 ==> 0.50\n",
      "0.00 ==> 0.50\n",
      "Computing scores for unsupervised_dbscan_eps=90.00 detector\n",
      "0.50 ==> 0.79\n",
      "0.45 ==> 0.76\n",
      "0.40 ==> 0.75\n",
      "0.35 ==> 0.50\n",
      "0.30 ==> 0.50\n",
      "0.25 ==> 0.50\n",
      "0.20 ==> 0.50\n",
      "0.15 ==> 0.50\n",
      "0.10 ==> 0.50\n",
      "0.05 ==> 0.50\n",
      "0.04 ==> 0.50\n",
      "0.03 ==> 0.50\n",
      "0.02 ==> 0.50\n",
      "0.01 ==> 0.50\n",
      "0.00 ==> 0.50\n"
     ]
    }
   ],
   "source": [
    "# evaluate the detectors\n",
    "from sklearn.metrics import roc_auc_score, accuracy_score\n",
    "\n",
    "def roc_auc_score_FIXED(y_true, y_pred):\n",
    "    if len(np.unique(y_true)) == 1: # bug in roc_auc_score\n",
    "        return accuracy_score(y_true, np.rint(y_pred))\n",
    "    return roc_auc_score(y_true, y_pred)\n",
    "\n",
    "# scores = {}\n",
    "for which, detector in detectors.items():\n",
    "    if \"unsupervised_dbscan\" not in which:\n",
    "        continue\n",
    "    print(\"Computing scores for %s detector\" % which)\n",
    "    y_true = np.concatenate((-np.ones(n_test), np.ones(n_test)))\n",
    "    if \"unsupervised\" in which:\n",
    "        y_true = -y_true\n",
    "    scores[which] = []\n",
    "    for eps in eps_range[::-1]:\n",
    "        if True:\n",
    "            if eps > 0:\n",
    "                y_pred = detector.predict(np.vstack((x_test, all_x_test_adv[eps])))\n",
    "                score = roc_auc_score_FIXED(y_pred, y_true)\n",
    "            else:\n",
    "                score = 0.5\n",
    "        else:\n",
    "            score = (detector.predict(all_x_test_adv[eps]) == -1).sum()\n",
    "        print(\"%.2f ==> %.2f\" % (eps, score))  \n",
    "        if which not in scores:\n",
    "            scores[which] = []\n",
    "        scores[which].append(score)\n",
    "    scores[which].sort()"
   ]
  },
  {
   "cell_type": "code",
   "execution_count": 143,
   "metadata": {},
   "outputs": [
    {
     "data": {
      "image/png": "[encoded data removed]",
      "text/plain": [
       "<Figure size 576x504 with 1 Axes>"
      ]
     },
     "metadata": {
      "needs_background": "light"
     },
     "output_type": "display_data"
    }
   ],
   "source": [
    "# plot the results\n",
    "fig, ax = plt.subplots(figsize=(8, 7))\n",
    "if True:\n",
    "    ax.axhline(1., linestyle=\"--\", c=\"k\")\n",
    "else:\n",
    "    ax.axhline(n_test, linestyle=\"--\", c=\"k\")\n",
    "for which in scores:\n",
    "    ax.plot(eps_range, scores[which], '-o', label=which.replace(\"supervised\", \"sup\"))\n",
    "\n",
    "legend = ax.legend(loc='best', shadow=True, fontsize=\"large\")\n",
    "legend.get_frame().set_facecolor('#00FFCC')\n",
    "\n",
    "plt.xlabel('Attack strength ($\\\\varepsilon$)')\n",
    "plt.ylabel('Detection AUC (%d examples)' % n_test)\n",
    "plt.show()"
   ]
  },
  {
   "cell_type": "code",
   "execution_count": 132,
   "metadata": {},
   "outputs": [],
   "source": [
    "from sklearn.cluster import DBSCAN\n",
    "\n",
    "\n",
    "class PredictiveDBSCAN(DBSCAN):\n",
    "    def predict(self, X):\n",
    "        n_test = len(X)\n",
    "        y_pred = -np.ones(shape=n_test, dtype=int)\n",
    "        for i in range(n_test):\n",
    "            diff = self.components_ - X[i]  # NumPy broadcasting\n",
    "            dist = np.linalg.norm(diff, axis=1)  # Euclidean distance\n",
    "            shortest_dist_idx = np.argmin(dist)\n",
    "            if dist[shortest_dist_idx] < self.eps:\n",
    "                y_pred[i] = self.labels_[self.core_sample_indices_[shortest_dist_idx]]\n",
    "                \n",
    "        y_pred[y_pred == 0] = 1\n",
    "        return y_pred\n",
    "    \n",
    "\n",
    "class DBSCANDetector(RawActivationsDetector):\n",
    "    def __init__(self, classifier_model, layer_names=None, n_components=20,\n",
    "                 dbscan_params=dict(eps=50, algorithm=\"ball_tree\"),\n",
    "                 n_jobs=1):\n",
    "        super(DBSCANDetector, self).__init__(classifier_model,\n",
    "                                             layer_names=layer_names,\n",
    "                                             n_components=n_components,\n",
    "                                             n_jobs=n_jobs)\n",
    "        self.dbscan_params = dbscan_params\n",
    "        \n",
    "    def fit(self, X):\n",
    "        RawActivationsDetector.fit(self, X)\n",
    "        activations = self.transform(X)\n",
    "        dbscan = PredictiveDBSCAN(n_jobs=self.n_jobs, **self.dbscan_params)\n",
    "        print(\"Fitting %s...\" % dbscan)\n",
    "        self.dbscan_ = dbscan.fit(activations)\n",
    "        return self\n",
    "    \n",
    "    def predict(self, X):\n",
    "        activations = self.transform(X)\n",
    "        return self.dbscan_.predict(activations)\n"
   ]
  },
  {
   "cell_type": "code",
   "execution_count": null,
   "metadata": {},
   "outputs": [],
   "source": []
  },
  {
   "cell_type": "code",
   "execution_count": 137,
   "metadata": {},
   "outputs": [
    {
     "name": "stdout",
     "output_type": "stream",
     "text": [
      "DBSCANDetector(classifier_model=<keras.engine.training.Model object at 0x7f8b91e6e350>,\n",
      "               dbscan_params={'eps': 30}, layer_names=['input_1', 'conv2d_8'],\n",
      "               n_components=20, n_jobs=1)\n",
      "Building activation model...\n",
      "Fitting PCA(copy=True, iterated_power='auto', n_components=20, random_state=None,\n",
      "    svd_solver='auto', tol=0.0, whiten=False) to layer 'input_1'...\n",
      "Fitting PCA(copy=True, iterated_power='auto', n_components=20, random_state=None,\n",
      "    svd_solver='auto', tol=0.0, whiten=False) to layer 'conv2d_8'...\n",
      "Fitting OneClassSVM(cache_size=200, coef0=0.0, degree=3, gamma='scale', kernel='rbf',\n",
      "            max_iter=-1, nu=0.5, shrinking=True, tol=0.001, verbose=False)..\n",
      "Fitting PredictiveDBSCAN(algorithm='auto', eps=30, leaf_size=30, metric='euclidean',\n",
      "                 metric_params=None, min_samples=5, n_jobs=1, p=None)...\n",
      "DBSCANDetector(classifier_model=<keras.engine.training.Model object at 0x7f8b91e6e350>,\n",
      "               dbscan_params={'eps': 40}, layer_names=['input_1', 'conv2d_8'],\n",
      "               n_components=20, n_jobs=1)\n",
      "Building activation model...\n",
      "Fitting PCA(copy=True, iterated_power='auto', n_components=20, random_state=None,\n",
      "    svd_solver='auto', tol=0.0, whiten=False) to layer 'input_1'...\n",
      "Fitting PCA(copy=True, iterated_power='auto', n_components=20, random_state=None,\n",
      "    svd_solver='auto', tol=0.0, whiten=False) to layer 'conv2d_8'...\n",
      "Fitting OneClassSVM(cache_size=200, coef0=0.0, degree=3, gamma='scale', kernel='rbf',\n",
      "            max_iter=-1, nu=0.5, shrinking=True, tol=0.001, verbose=False)..\n",
      "Fitting PredictiveDBSCAN(algorithm='auto', eps=40, leaf_size=30, metric='euclidean',\n",
      "                 metric_params=None, min_samples=5, n_jobs=1, p=None)...\n",
      "DBSCANDetector(classifier_model=<keras.engine.training.Model object at 0x7f8b91e6e350>,\n",
      "               dbscan_params={'eps': 50}, layer_names=['input_1', 'conv2d_8'],\n",
      "               n_components=20, n_jobs=1)\n",
      "Building activation model...\n",
      "Fitting PCA(copy=True, iterated_power='auto', n_components=20, random_state=None,\n",
      "    svd_solver='auto', tol=0.0, whiten=False) to layer 'input_1'...\n",
      "Fitting PCA(copy=True, iterated_power='auto', n_components=20, random_state=None,\n",
      "    svd_solver='auto', tol=0.0, whiten=False) to layer 'conv2d_8'...\n",
      "Fitting OneClassSVM(cache_size=200, coef0=0.0, degree=3, gamma='scale', kernel='rbf',\n",
      "            max_iter=-1, nu=0.5, shrinking=True, tol=0.001, verbose=False)..\n",
      "Fitting PredictiveDBSCAN(algorithm='auto', eps=50, leaf_size=30, metric='euclidean',\n",
      "                 metric_params=None, min_samples=5, n_jobs=1, p=None)...\n",
      "DBSCANDetector(classifier_model=<keras.engine.training.Model object at 0x7f8b91e6e350>,\n",
      "               dbscan_params={'eps': 60}, layer_names=['input_1', 'conv2d_8'],\n",
      "               n_components=20, n_jobs=1)\n",
      "Building activation model...\n",
      "Fitting PCA(copy=True, iterated_power='auto', n_components=20, random_state=None,\n",
      "    svd_solver='auto', tol=0.0, whiten=False) to layer 'input_1'...\n",
      "Fitting PCA(copy=True, iterated_power='auto', n_components=20, random_state=None,\n",
      "    svd_solver='auto', tol=0.0, whiten=False) to layer 'conv2d_8'...\n",
      "Fitting OneClassSVM(cache_size=200, coef0=0.0, degree=3, gamma='scale', kernel='rbf',\n",
      "            max_iter=-1, nu=0.5, shrinking=True, tol=0.001, verbose=False)..\n",
      "Fitting PredictiveDBSCAN(algorithm='auto', eps=60, leaf_size=30, metric='euclidean',\n",
      "                 metric_params=None, min_samples=5, n_jobs=1, p=None)...\n",
      "DBSCANDetector(classifier_model=<keras.engine.training.Model object at 0x7f8b91e6e350>,\n",
      "               dbscan_params={'eps': 70}, layer_names=['input_1', 'conv2d_8'],\n",
      "               n_components=20, n_jobs=1)\n",
      "Building activation model...\n",
      "Fitting PCA(copy=True, iterated_power='auto', n_components=20, random_state=None,\n",
      "    svd_solver='auto', tol=0.0, whiten=False) to layer 'input_1'...\n",
      "Fitting PCA(copy=True, iterated_power='auto', n_components=20, random_state=None,\n",
      "    svd_solver='auto', tol=0.0, whiten=False) to layer 'conv2d_8'...\n",
      "Fitting OneClassSVM(cache_size=200, coef0=0.0, degree=3, gamma='scale', kernel='rbf',\n",
      "            max_iter=-1, nu=0.5, shrinking=True, tol=0.001, verbose=False)..\n",
      "Fitting PredictiveDBSCAN(algorithm='auto', eps=70, leaf_size=30, metric='euclidean',\n",
      "                 metric_params=None, min_samples=5, n_jobs=1, p=None)...\n",
      "DBSCANDetector(classifier_model=<keras.engine.training.Model object at 0x7f8b91e6e350>,\n",
      "               dbscan_params={'eps': 80}, layer_names=['input_1', 'conv2d_8'],\n",
      "               n_components=20, n_jobs=1)\n",
      "Building activation model...\n",
      "Fitting PCA(copy=True, iterated_power='auto', n_components=20, random_state=None,\n",
      "    svd_solver='auto', tol=0.0, whiten=False) to layer 'input_1'...\n",
      "Fitting PCA(copy=True, iterated_power='auto', n_components=20, random_state=None,\n",
      "    svd_solver='auto', tol=0.0, whiten=False) to layer 'conv2d_8'...\n",
      "Fitting OneClassSVM(cache_size=200, coef0=0.0, degree=3, gamma='scale', kernel='rbf',\n",
      "            max_iter=-1, nu=0.5, shrinking=True, tol=0.001, verbose=False)..\n",
      "Fitting PredictiveDBSCAN(algorithm='auto', eps=80, leaf_size=30, metric='euclidean',\n",
      "                 metric_params=None, min_samples=5, n_jobs=1, p=None)...\n",
      "DBSCANDetector(classifier_model=<keras.engine.training.Model object at 0x7f8b91e6e350>,\n",
      "               dbscan_params={'eps': 90}, layer_names=['input_1', 'conv2d_8'],\n",
      "               n_components=20, n_jobs=1)\n",
      "Building activation model...\n",
      "Fitting PCA(copy=True, iterated_power='auto', n_components=20, random_state=None,\n",
      "    svd_solver='auto', tol=0.0, whiten=False) to layer 'input_1'...\n",
      "Fitting PCA(copy=True, iterated_power='auto', n_components=20, random_state=None,\n",
      "    svd_solver='auto', tol=0.0, whiten=False) to layer 'conv2d_8'...\n",
      "Fitting OneClassSVM(cache_size=200, coef0=0.0, degree=3, gamma='scale', kernel='rbf',\n",
      "            max_iter=-1, nu=0.5, shrinking=True, tol=0.001, verbose=False)..\n",
      "Fitting PredictiveDBSCAN(algorithm='auto', eps=90, leaf_size=30, metric='euclidean',\n",
      "                 metric_params=None, min_samples=5, n_jobs=1, p=None)...\n"
     ]
    }
   ],
   "source": [
    "for dbscan_eps in range(30, 100, 10):\n",
    "    name = \"unsupervised_dbscan_eps=%.2f\" % dbscan_eps\n",
    "    detector = DBSCANDetector(classifier_model, layer_names=layer_names,\n",
    "                              n_components=n_components,\n",
    "                              dbscan_params=dict(eps=dbscan_eps))\n",
    "    print(detector)\n",
    "    detector.fit(x_train)\n",
    "    detectors[name] = detector"
   ]
  },
  {
   "cell_type": "code",
   "execution_count": 93,
   "metadata": {},
   "outputs": [
    {
     "data": {
      "text/plain": [
       "array([-1, -1, -1, -1, -1, -1, -1, -1, -1, -1, -1, -1, -1, -1, -1, -1, -1,\n",
       "       -1, -1, -1, -1, -1, -1, -1, -1, -1, -1, -1, -1, -1, -1, -1, -1, -1,\n",
       "       -1, -1, -1, -1, -1, -1, -1, -1, -1, -1, -1, -1, -1, -1, -1, -1, -1,\n",
       "       -1, -1, -1, -1, -1, -1, -1, -1, -1, -1, -1, -1, -1, -1, -1, -1, -1,\n",
       "       -1, -1, -1, -1, -1, -1, -1, -1, -1, -1, -1, -1, -1, -1, -1, -1, -1,\n",
       "       -1, -1, -1, -1, -1, -1, -1, -1, -1, -1, -1, -1, -1, -1, -1, -1, -1,\n",
       "       -1, -1, -1, -1, -1, -1, -1, -1, -1, -1, -1, -1, -1, -1, -1, -1, -1,\n",
       "       -1, -1, -1, -1, -1, -1, -1, -1, -1, -1, -1, -1, -1, -1, -1, -1, -1,\n",
       "       -1, -1, -1, -1, -1, -1, -1, -1, -1, -1, -1, -1, -1, -1, -1, -1, -1,\n",
       "       -1, -1, -1, -1, -1, -1, -1, -1, -1, -1, -1, -1, -1, -1, -1, -1, -1,\n",
       "       -1, -1, -1, -1, -1, -1, -1, -1, -1, -1, -1, -1, -1, -1, -1, -1, -1,\n",
       "       -1, -1, -1, -1, -1, -1, -1, -1, -1, -1, -1, -1, -1, -1, -1, -1, -1,\n",
       "       -1, -1, -1, -1, -1, -1, -1, -1, -1, -1, -1, -1, -1, -1, -1, -1, -1,\n",
       "       -1, -1, -1, -1, -1, -1, -1, -1, -1, -1, -1, -1, -1, -1, -1, -1, -1,\n",
       "       -1, -1, -1, -1, -1, -1, -1, -1, -1, -1, -1, -1, -1, -1, -1, -1, -1,\n",
       "       -1, -1, -1, -1, -1, -1, -1, -1, -1, -1, -1, -1, -1, -1, -1, -1, -1,\n",
       "       -1, -1, -1, -1, -1, -1, -1, -1, -1, -1, -1, -1, -1, -1, -1, -1, -1,\n",
       "       -1, -1, -1, -1, -1, -1, -1, -1, -1, -1, -1, -1, -1, -1, -1, -1, -1,\n",
       "       -1, -1, -1, -1, -1, -1, -1, -1, -1, -1, -1, -1, -1, -1, -1, -1, -1,\n",
       "       -1, -1, -1, -1, -1, -1, -1, -1, -1, -1, -1, -1, -1, -1, -1, -1, -1,\n",
       "       -1, -1, -1, -1, -1, -1, -1, -1, -1, -1, -1, -1, -1, -1, -1, -1, -1,\n",
       "       -1, -1, -1, -1, -1, -1, -1, -1, -1, -1, -1, -1, -1, -1, -1, -1, -1,\n",
       "       -1, -1, -1, -1, -1, -1, -1, -1, -1, -1, -1, -1, -1, -1, -1, -1, -1,\n",
       "       -1, -1, -1, -1, -1, -1, -1, -1, -1])"
      ]
     },
     "execution_count": 93,
     "metadata": {},
     "output_type": "execute_result"
    }
   ],
   "source": [
    "detectors[\"unsupervised_dbscan\"].predict(all_x_test_adv[0.5])"
   ]
  },
  {
   "cell_type": "code",
   "execution_count": 62,
   "metadata": {},
   "outputs": [],
   "source": [
    "DBSCAN?"
   ]
  },
  {
   "cell_type": "markdown",
   "metadata": {},
   "source": [
    "Two-NN estimator of intrinsic dimension\n",
    "==="
   ]
  },
  {
   "cell_type": "code",
   "execution_count": 16,
   "metadata": {},
   "outputs": [
    {
     "ename": "ImportError",
     "evalue": "cannot import name 'LIDDetector2NN' from 'elvis_lib' (/home/elvis/CODE/FORKED/adversarial-robustness-toolbox/notebooks/elvis_lib/__init__.py)",
     "output_type": "error",
     "traceback": [
      "\u001b[0;31m---------------------------------------------------------------------------\u001b[0m",
      "\u001b[0;31mImportError\u001b[0m                               Traceback (most recent call last)",
      "\u001b[0;32m<ipython-input-16-28bdf5e8346e>\u001b[0m in \u001b[0;36m<module>\u001b[0;34m\u001b[0m\n\u001b[0;32m----> 1\u001b[0;31m \u001b[0;32mfrom\u001b[0m \u001b[0melvis_lib\u001b[0m \u001b[0;32mimport\u001b[0m \u001b[0mLIDDetector2NN\u001b[0m\u001b[0;34m\u001b[0m\u001b[0;34m\u001b[0m\u001b[0m\n\u001b[0m",
      "\u001b[0;31mImportError\u001b[0m: cannot import name 'LIDDetector2NN' from 'elvis_lib' (/home/elvis/CODE/FORKED/adversarial-robustness-toolbox/notebooks/elvis_lib/__init__.py)"
     ]
    }
   ],
   "source": [
    "from elvis_lib import LIDDetector2NN"
   ]
  },
  {
   "cell_type": "code",
   "execution_count": null,
   "metadata": {},
   "outputs": [],
   "source": [
    "from colour import Color\n",
    "blue = Color(\"blue\")\n",
    "colors = list(blue.range_to(Color(\"red\"), 1 + len(all_x_test_adv)))\n",
    "colors = [np.array(color.get_rgb())[None, :] for color in colors]\n",
    "layer_indices = [0, 25]\n",
    "_, axes = plt.subplots(len(layer_indices), 2, figsize=(2 * 5, len(layer_indices) * 5))\n",
    "legended = False\n",
    "for layer_idx, (ax1, ax2) in zip(layer_indices, axes):\n",
    "    ids = []\n",
    "    toto = LIDDetector2NN(layer_idx=layer_idx)\n",
    "    for eps, c in zip(all_x_test_adv, colors):\n",
    "        toto.fit(all_x_test_adv[eps])\n",
    "        ax1.scatter(toto.xx_, toto.yy_, label=\"$\\\\varepsilon=%.2f$\" % eps, c=c)\n",
    "        ids.append(toto.intrinsic_dim_)\n",
    "\n",
    "    ax1.set_xlabel(\"$\\\\log(\\\\mu)$\")\n",
    "    ax1.set_ylabel(\"$-\\\\log(1-F(\\\\mu))$\")\n",
    "        \n",
    "    if not legended:\n",
    "        legended = True\n",
    "        ax1.legend(loc=\"best\", ncol=1)\n",
    "            \n",
    "    ax2.plot(eps_range, ids, linewidth=3)\n",
    "    ax2.set_xlabel(\"Attack strength ($\\\\varepsilon$)\")\n",
    "    ax2.set_ylabel(\"Intrinsic dimension ($d$)\")\n",
    "plt.tight_layout()\n",
    "plt.savefig(\"intrinsic.png\", dpi=200, bbox_inches=\"tight\")"
   ]
  },
  {
   "cell_type": "code",
   "execution_count": null,
   "metadata": {},
   "outputs": [],
   "source": [
    "layer_idx = 25\n",
    "colors = list(blue.range_to(Color(\"red\"), 1 + len(all_x_test_adv)))\n",
    "colors = [np.array(color.get_rgb())[None, :] for color in colors]\n",
    "activation_model = keras.models.Model(input=classifier_model.input,\n",
    "                                      output=classifier_model.layers[layer_idx].output)\n",
    "lid = LocalIntrinsicDimensionMLE(preprocessor=lambda X: activation_model.predict(X).reshape((len(X), -1)))\n",
    "lid.fit(x_train)\n",
    "print(lid.intrinsic_dims_.mean())\n",
    "ids = []\n",
    "import seaborn as sns\n",
    "plt.figure(figsize=(5, 5))\n",
    "for eps, color in zip(eps_range, colors):\n",
    "    d = lid.predict(all_x_test_adv[eps])\n",
    "    sns.kdeplot(d, c=color[0], label=\"$\\\\varepsilon=%.2f$\" % eps)\n",
    "    ids.append(d)\n",
    "plt.legend(loc=\"best\")\n",
    "plt.xlabel(\"Local Intrinsic Dimension\")\n",
    "plt.tight_layout()\n",
    "# plt.plot(eps_range, ids)"
   ]
  },
  {
   "cell_type": "code",
   "execution_count": null,
   "metadata": {},
   "outputs": [],
   "source": [
    "plt.errorbar(eps_range, np.mean(ids, axis=1), yerr=np.std(ids, axis=1))\n",
    "plt.xlabel(\"Attack strength ($\\\\varepsilon$)\")\n",
    "plt.ylabel(\"Local Intrinsic Dimension\")"
   ]
  },
  {
   "cell_type": "code",
   "execution_count": null,
   "metadata": {},
   "outputs": [],
   "source": [
    "import seaborn as sns\n",
    "sns.kdeplot(lid.intrinsic_dims_)\n",
    "sns.kdeplot(lid._compute_lids(lid._get_activations(all_x_test_adv[.05])))\n",
    "plt.axvline(lid.cutoff_, linestyle=\"--\", c=\"k\")"
   ]
  },
  {
   "cell_type": "code",
   "execution_count": null,
   "metadata": {},
   "outputs": [],
   "source": [
    "from scipy.stats import cumfreq\n",
    "cumfreq(toto.lid2nn_.mus_, 32)[0]"
   ]
  },
  {
   "cell_type": "code",
   "execution_count": null,
   "metadata": {},
   "outputs": [],
   "source": [
    "plt.plot(1 - toto.lid2nn_.mus_ ** (-toto.intrinsic_dim_))"
   ]
  },
  {
   "cell_type": "code",
   "execution_count": null,
   "metadata": {},
   "outputs": [],
   "source": [
    "plt.hist(toto.lid2nn_.mus_, bins=15);\n",
    "confidence = .95\n",
    "tail = (1. / (1. - confidence)) ** (1. / toto.intrinsic_dim_)\n",
    "plt.axvline(tail, linestyle=\"--\", c=\"k\")"
   ]
  },
  {
   "cell_type": "code",
   "execution_count": null,
   "metadata": {},
   "outputs": [],
   "source": [
    "x = np.random.randn(10000, 3)\n",
    "from sklearn.model_selection import KFold\n",
    "folds = KFold(n_splits=100)\n",
    "dims = []\n",
    "for indices, _ in folds.split(x):\n",
    "    lid2nn = LocalIntrinsicDimensionMLE2NN()\n",
    "    dims.append(lid2nn.fit(x[indices]).intrinsic_dim_)\n",
    "dims = np.asanyarray(dims)"
   ]
  },
  {
   "cell_type": "code",
   "execution_count": null,
   "metadata": {},
   "outputs": [],
   "source": [
    "plt.hist(1. / np.log(lid2nn._compute_mus(x)), 32);"
   ]
  },
  {
   "cell_type": "code",
   "execution_count": null,
   "metadata": {},
   "outputs": [],
   "source": [
    "import keras.backend as K\n",
    "grads = K.gradients(classifier_model.layers[25].output, classifier_model.input)[0]\n",
    "compute_grads = K.function(classifier_model.input, grads)\n",
    "compute_grads(x_test).shape\n"
   ]
  },
  {
   "cell_type": "code",
   "execution_count": null,
   "metadata": {},
   "outputs": [],
   "source": [
    "toto = LIDDetector2NN(layer_idx=25).fit(x_train[:200])\n",
    "confidence = .95\n",
    "tail = (1. / (1. - confidence)) ** (-toto.intrinsic_dim_)"
   ]
  },
  {
   "cell_type": "code",
   "execution_count": null,
   "metadata": {},
   "outputs": [],
   "source": [
    "import seaborn as sns\n",
    "sns.kdeplot(toto.lid2nn_.mus_)\n",
    "confidence = .95\n",
    "tail = confidence ** (-1 / toto.intrinsic_dim_)\n",
    "plt.axvline(tail, linestyle=\"--\", c=\"k\")\n",
    "for eps, color in zip(eps_range, colors):\n",
    "    sns.kdeplot(toto.lid2nn_._compute_mus(toto._get_activations(all_x_test_adv[eps])), c=color[0])"
   ]
  },
  {
   "cell_type": "code",
   "execution_count": null,
   "metadata": {},
   "outputs": [],
   "source": [
    "sns.kdeplot(toto.lid2nn_.mus_)\n",
    "confidence = .95\n",
    "tail = confidence ** (-1 / toto.intrinsic_dim_)\n",
    "plt.axvline(tail, linestyle=\"--\", c=\"k\")"
   ]
  },
  {
   "cell_type": "code",
   "execution_count": null,
   "metadata": {},
   "outputs": [],
   "source": [
    "import scipy.stats\n"
   ]
  },
  {
   "cell_type": "code",
   "execution_count": null,
   "metadata": {},
   "outputs": [],
   "source": [
    "from elvis_lib.utils import plot_multivariate_normal"
   ]
  },
  {
   "cell_type": "code",
   "execution_count": null,
   "metadata": {},
   "outputs": [],
   "source": [
    "lid = detectors[\"unsupervised_lid\"]\n",
    "mean = lid.confidence_ellipsoid_.location_\n",
    "cov = lid.confidence_ellipsoid_.covariance_\n",
    "plot_multivariate_normal(mean, cov, x_width=50, y_width=50);\n",
    "if False:\n",
    "    plt.scatter(lid.intrinsic_dims_[\"conv2d_7\"], lid.intrinsic_dims_[\"conv2d_8\"],\n",
    "                s=2)\n",
    "\n",
    "plt.scatter(aux[\"conv2d_7\"], aux[\"conv2d_8\"], c=\"r\", s=5)\n",
    "\n",
    "plt.xlabel(\"conv2d_7 lids\")\n",
    "plt.ylabel(\"conv2d_8 lids\")"
   ]
  },
  {
   "cell_type": "code",
   "execution_count": null,
   "metadata": {},
   "outputs": [],
   "source": [
    "aux = lid._compute_lids(lid.get_activations(x_train))"
   ]
  },
  {
   "cell_type": "code",
   "execution_count": null,
   "metadata": {},
   "outputs": [],
   "source": [
    "lid.confidence_ellipsoid_.predict(np.transpose([aux[\"input_1\"], aux[\"conv2d_8\"]]))"
   ]
  },
  {
   "cell_type": "code",
   "execution_count": null,
   "metadata": {},
   "outputs": [],
   "source": [
    "[(layer.name, layer.output.shape) for layer in classifier_model.layers if \"conv2d\" in layer.name]"
   ]
  },
  {
   "cell_type": "code",
   "execution_count": null,
   "metadata": {},
   "outputs": [],
   "source": [
    "del detectors"
   ]
  },
  {
   "cell_type": "code",
   "execution_count": null,
   "metadata": {},
   "outputs": [],
   "source": [
    "NearestNeighbors?"
   ]
  },
  {
   "cell_type": "code",
   "execution_count": null,
   "metadata": {},
   "outputs": [],
   "source": [
    "activations = dict(zip(detectors[\"unsupervised_lid\"].layer_names_,\n",
    "                       [detectors[\"unsupervised_lid\"].activation_model_.predict(x_test)]))"
   ]
  },
  {
   "cell_type": "code",
   "execution_count": null,
   "metadata": {},
   "outputs": [],
   "source": [
    "plt.matshow(activations[\"conv2d_8\"][5, :, :, 1])"
   ]
  },
  {
   "cell_type": "code",
   "execution_count": null,
   "metadata": {},
   "outputs": [],
   "source": [
    "from sklearn.decomposition import DictionaryLearning\n",
    "pca = PCA(n_components=10).fit_transform(activations[\"conv2d_8\"].reshape(len(x_test), -1))"
   ]
  },
  {
   "cell_type": "code",
   "execution_count": null,
   "metadata": {},
   "outputs": [],
   "source": [
    "plt.plot(pca.T);"
   ]
  },
  {
   "cell_type": "code",
   "execution_count": null,
   "metadata": {},
   "outputs": [],
   "source": [
    "RawActivationsDetector?"
   ]
  },
  {
   "cell_type": "code",
   "execution_count": 115,
   "metadata": {},
   "outputs": [],
   "source": [
    "DBSCAN?"
   ]
  },
  {
   "cell_type": "code",
   "execution_count": 145,
   "metadata": {},
   "outputs": [
    {
     "data": {
      "text/plain": [
       "0.4054651081081644"
      ]
     },
     "execution_count": 145,
     "metadata": {},
     "output_type": "execute_result"
    }
   ],
   "source": [
    "np.log(1.5)"
   ]
  },
  {
   "cell_type": "code",
   "execution_count": null,
   "metadata": {},
   "outputs": [],
   "source": []
  }
 ],
 "metadata": {
  "kernelspec": {
   "display_name": "Python 3",
   "language": "python",
   "name": "python3"
  },
  "language_info": {
   "codemirror_mode": {
    "name": "ipython",
    "version": 3
   },
   "file_extension": ".py",
   "mimetype": "text/x-python",
   "name": "python",
   "nbconvert_exporter": "python",
   "pygments_lexer": "ipython3",
   "version": "3.7.6"
  }
 },
 "nbformat": 4,
 "nbformat_minor": 1
}
