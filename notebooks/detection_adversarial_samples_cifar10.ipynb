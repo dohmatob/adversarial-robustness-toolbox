{
 "cells": [
  {
   "cell_type": "markdown",
   "metadata": {},
   "source": [
    "<table style=\"border: none\" align=\"center\">\n",
    "   <tr style=\"border: none\">\n",
    "      <th style=\"border: none\"><font face=\"verdana\" size=\"4\" color=\"black\"><b>  Demonstrate detection of adversarial samples using ART  </b></font></font></th>\n",
    "   </tr> \n",
    "</table>"
   ]
  },
  {
   "cell_type": "markdown",
   "metadata": {},
   "source": [
    "In this notebook we demonstrate the detection of adversarial samples using ART. Our classifier will be a **ResNet** architecture for the [CIFAR-10](https://www.cs.toronto.edu/~kriz/cifar.html) image data set.\n",
    "\n",
    "\n",
    "## Contents\n",
    "\n",
    "1.\t[Loading prereqs and data](#prereqs)\n",
    "2.  [Evaluating the classifier](#classifier)\n",
    "3.  [Training the detector](#train_detector)\n",
    "4.  [Evaluating the detector](#detector)\n",
    "5.  [Crazy stuff](#crazy)"
   ]
  },
  {
   "cell_type": "markdown",
   "metadata": {},
   "source": [
    "<a id=\"prereqs\"></a>\n",
    "## 1. Loading prereqs and data"
   ]
  },
  {
   "cell_type": "code",
   "execution_count": 1,
   "metadata": {},
   "outputs": [
    {
     "name": "stderr",
     "output_type": "stream",
     "text": [
      "Using TensorFlow backend.\n"
     ]
    }
   ],
   "source": [
    "import warnings\n",
    "warnings.filterwarnings('ignore')\n",
    "\n",
    "from keras.models import load_model\n",
    "\n",
    "from art.config import ART_DATA_PATH\n",
    "from art.utils import load_dataset, get_file\n",
    "from art.classifiers import KerasClassifier\n",
    "from art.attacks import FastGradientMethod\n",
    "from art.detection import BinaryInputDetector\n",
    "\n",
    "import numpy as np\n",
    "\n",
    "%matplotlib inline\n",
    "import matplotlib.pyplot as plt"
   ]
  },
  {
   "cell_type": "markdown",
   "metadata": {},
   "source": [
    "Load the CIFAR10 data set and class descriptions:"
   ]
  },
  {
   "cell_type": "code",
   "execution_count": 2,
   "metadata": {},
   "outputs": [],
   "source": [
    "(x_train, y_train), (x_test, y_test), min_, max_ = load_dataset('cifar10')\n",
    "\n",
    "n_train = 200\n",
    "n_test = 200\n",
    "n_jobs = 4\n",
    "x_train = x_train[:n_train]\n",
    "y_train = y_train[:n_train]\n",
    "x_test = x_test[:n_test]\n",
    "y_test = y_test[:n_test]\n",
    "\n",
    "class_descr = ['airplane', 'automobile', 'bird', 'cat', 'deer', 'dog', 'frog', 'horse', 'ship', 'truck']"
   ]
  },
  {
   "cell_type": "markdown",
   "metadata": {},
   "source": [
    "<a id=\"classifier\"></a>\n",
    "## 2. Evaluating the classifier"
   ]
  },
  {
   "cell_type": "markdown",
   "metadata": {},
   "source": [
    "Load the pre-trained classifier (a ResNet architecture):"
   ]
  },
  {
   "cell_type": "code",
   "execution_count": 3,
   "metadata": {},
   "outputs": [],
   "source": [
    "path = get_file('cifar_resnet.h5',extract=False, path=ART_DATA_PATH,\n",
    "                url='https://www.dropbox.com/s/ta75pl4krya5djj/cifar_resnet.h5?dl=1')\n",
    "classifier_model = load_model(path)\n",
    "classifier = KerasClassifier(clip_values=(min_, max_), model=classifier_model, use_logits=False, \n",
    "                             preprocessing=(0.5, 1))"
   ]
  },
  {
   "cell_type": "code",
   "execution_count": 4,
   "metadata": {
    "scrolled": false
   },
   "outputs": [
    {
     "name": "stdout",
     "output_type": "stream",
     "text": [
      "Model: \"model_1\"\n",
      "__________________________________________________________________________________________________\n",
      "Layer (type)                    Output Shape         Param #     Connected to                     \n",
      "==================================================================================================\n",
      "input_1 (InputLayer)            (None, 32, 32, 3)    0                                            \n",
      "__________________________________________________________________________________________________\n",
      "conv2d_1 (Conv2D)               (None, 32, 32, 16)   448         input_1[0][0]                    \n",
      "__________________________________________________________________________________________________\n",
      "batch_normalization_1 (BatchNor (None, 32, 32, 16)   64          conv2d_1[0][0]                   \n",
      "__________________________________________________________________________________________________\n",
      "activation_1 (Activation)       (None, 32, 32, 16)   0           batch_normalization_1[0][0]      \n",
      "__________________________________________________________________________________________________\n",
      "conv2d_2 (Conv2D)               (None, 32, 32, 16)   2320        activation_1[0][0]               \n",
      "__________________________________________________________________________________________________\n",
      "batch_normalization_2 (BatchNor (None, 32, 32, 16)   64          conv2d_2[0][0]                   \n",
      "__________________________________________________________________________________________________\n",
      "activation_2 (Activation)       (None, 32, 32, 16)   0           batch_normalization_2[0][0]      \n",
      "__________________________________________________________________________________________________\n",
      "conv2d_3 (Conv2D)               (None, 32, 32, 16)   2320        activation_2[0][0]               \n",
      "__________________________________________________________________________________________________\n",
      "add_1 (Add)                     (None, 32, 32, 16)   0           activation_1[0][0]               \n",
      "                                                                 conv2d_3[0][0]                   \n",
      "__________________________________________________________________________________________________\n",
      "batch_normalization_3 (BatchNor (None, 32, 32, 16)   64          add_1[0][0]                      \n",
      "__________________________________________________________________________________________________\n",
      "activation_3 (Activation)       (None, 32, 32, 16)   0           batch_normalization_3[0][0]      \n",
      "__________________________________________________________________________________________________\n",
      "conv2d_4 (Conv2D)               (None, 32, 32, 16)   2320        activation_3[0][0]               \n",
      "__________________________________________________________________________________________________\n",
      "batch_normalization_4 (BatchNor (None, 32, 32, 16)   64          conv2d_4[0][0]                   \n",
      "__________________________________________________________________________________________________\n",
      "activation_4 (Activation)       (None, 32, 32, 16)   0           batch_normalization_4[0][0]      \n",
      "__________________________________________________________________________________________________\n",
      "conv2d_5 (Conv2D)               (None, 32, 32, 16)   2320        activation_4[0][0]               \n",
      "__________________________________________________________________________________________________\n",
      "add_2 (Add)                     (None, 32, 32, 16)   0           add_1[0][0]                      \n",
      "                                                                 conv2d_5[0][0]                   \n",
      "__________________________________________________________________________________________________\n",
      "batch_normalization_5 (BatchNor (None, 32, 32, 16)   64          add_2[0][0]                      \n",
      "__________________________________________________________________________________________________\n",
      "activation_5 (Activation)       (None, 32, 32, 16)   0           batch_normalization_5[0][0]      \n",
      "__________________________________________________________________________________________________\n",
      "conv2d_6 (Conv2D)               (None, 32, 32, 16)   2320        activation_5[0][0]               \n",
      "__________________________________________________________________________________________________\n",
      "batch_normalization_6 (BatchNor (None, 32, 32, 16)   64          conv2d_6[0][0]                   \n",
      "__________________________________________________________________________________________________\n",
      "activation_6 (Activation)       (None, 32, 32, 16)   0           batch_normalization_6[0][0]      \n",
      "__________________________________________________________________________________________________\n",
      "conv2d_7 (Conv2D)               (None, 32, 32, 16)   2320        activation_6[0][0]               \n",
      "__________________________________________________________________________________________________\n",
      "add_3 (Add)                     (None, 32, 32, 16)   0           add_2[0][0]                      \n",
      "                                                                 conv2d_7[0][0]                   \n",
      "__________________________________________________________________________________________________\n",
      "batch_normalization_7 (BatchNor (None, 32, 32, 16)   64          add_3[0][0]                      \n",
      "__________________________________________________________________________________________________\n",
      "activation_7 (Activation)       (None, 32, 32, 16)   0           batch_normalization_7[0][0]      \n",
      "__________________________________________________________________________________________________\n",
      "conv2d_8 (Conv2D)               (None, 32, 32, 16)   2320        activation_7[0][0]               \n",
      "__________________________________________________________________________________________________\n",
      "batch_normalization_8 (BatchNor (None, 32, 32, 16)   64          conv2d_8[0][0]                   \n",
      "__________________________________________________________________________________________________\n",
      "activation_8 (Activation)       (None, 32, 32, 16)   0           batch_normalization_8[0][0]      \n",
      "__________________________________________________________________________________________________\n",
      "conv2d_9 (Conv2D)               (None, 32, 32, 16)   2320        activation_8[0][0]               \n",
      "__________________________________________________________________________________________________\n",
      "add_4 (Add)                     (None, 32, 32, 16)   0           add_3[0][0]                      \n",
      "                                                                 conv2d_9[0][0]                   \n",
      "__________________________________________________________________________________________________\n",
      "batch_normalization_9 (BatchNor (None, 32, 32, 16)   64          add_4[0][0]                      \n",
      "__________________________________________________________________________________________________\n",
      "activation_9 (Activation)       (None, 32, 32, 16)   0           batch_normalization_9[0][0]      \n",
      "__________________________________________________________________________________________________\n",
      "conv2d_10 (Conv2D)              (None, 32, 32, 16)   2320        activation_9[0][0]               \n",
      "__________________________________________________________________________________________________\n",
      "batch_normalization_10 (BatchNo (None, 32, 32, 16)   64          conv2d_10[0][0]                  \n",
      "__________________________________________________________________________________________________\n",
      "activation_10 (Activation)      (None, 32, 32, 16)   0           batch_normalization_10[0][0]     \n",
      "__________________________________________________________________________________________________\n",
      "conv2d_11 (Conv2D)              (None, 32, 32, 16)   2320        activation_10[0][0]              \n",
      "__________________________________________________________________________________________________\n",
      "add_5 (Add)                     (None, 32, 32, 16)   0           add_4[0][0]                      \n",
      "                                                                 conv2d_11[0][0]                  \n",
      "__________________________________________________________________________________________________\n",
      "batch_normalization_11 (BatchNo (None, 32, 32, 16)   64          add_5[0][0]                      \n",
      "__________________________________________________________________________________________________\n",
      "activation_11 (Activation)      (None, 32, 32, 16)   0           batch_normalization_11[0][0]     \n",
      "__________________________________________________________________________________________________\n",
      "conv2d_12 (Conv2D)              (None, 16, 16, 32)   4640        activation_11[0][0]              \n",
      "__________________________________________________________________________________________________\n",
      "batch_normalization_12 (BatchNo (None, 16, 16, 32)   128         conv2d_12[0][0]                  \n",
      "__________________________________________________________________________________________________\n",
      "activation_12 (Activation)      (None, 16, 16, 32)   0           batch_normalization_12[0][0]     \n",
      "__________________________________________________________________________________________________\n",
      "conv2d_14 (Conv2D)              (None, 16, 16, 32)   544         add_5[0][0]                      \n",
      "__________________________________________________________________________________________________\n",
      "conv2d_13 (Conv2D)              (None, 16, 16, 32)   9248        activation_12[0][0]              \n",
      "__________________________________________________________________________________________________\n",
      "add_6 (Add)                     (None, 16, 16, 32)   0           conv2d_14[0][0]                  \n",
      "                                                                 conv2d_13[0][0]                  \n",
      "__________________________________________________________________________________________________\n",
      "batch_normalization_13 (BatchNo (None, 16, 16, 32)   128         add_6[0][0]                      \n",
      "__________________________________________________________________________________________________\n",
      "activation_13 (Activation)      (None, 16, 16, 32)   0           batch_normalization_13[0][0]     \n",
      "__________________________________________________________________________________________________\n",
      "conv2d_15 (Conv2D)              (None, 16, 16, 32)   9248        activation_13[0][0]              \n",
      "__________________________________________________________________________________________________\n",
      "batch_normalization_14 (BatchNo (None, 16, 16, 32)   128         conv2d_15[0][0]                  \n",
      "__________________________________________________________________________________________________\n",
      "activation_14 (Activation)      (None, 16, 16, 32)   0           batch_normalization_14[0][0]     \n",
      "__________________________________________________________________________________________________\n",
      "conv2d_16 (Conv2D)              (None, 16, 16, 32)   9248        activation_14[0][0]              \n",
      "__________________________________________________________________________________________________\n",
      "add_7 (Add)                     (None, 16, 16, 32)   0           add_6[0][0]                      \n",
      "                                                                 conv2d_16[0][0]                  \n",
      "__________________________________________________________________________________________________\n",
      "batch_normalization_15 (BatchNo (None, 16, 16, 32)   128         add_7[0][0]                      \n",
      "__________________________________________________________________________________________________\n",
      "activation_15 (Activation)      (None, 16, 16, 32)   0           batch_normalization_15[0][0]     \n",
      "__________________________________________________________________________________________________\n",
      "conv2d_17 (Conv2D)              (None, 16, 16, 32)   9248        activation_15[0][0]              \n",
      "__________________________________________________________________________________________________\n",
      "batch_normalization_16 (BatchNo (None, 16, 16, 32)   128         conv2d_17[0][0]                  \n",
      "__________________________________________________________________________________________________\n",
      "activation_16 (Activation)      (None, 16, 16, 32)   0           batch_normalization_16[0][0]     \n",
      "__________________________________________________________________________________________________\n",
      "conv2d_18 (Conv2D)              (None, 16, 16, 32)   9248        activation_16[0][0]              \n",
      "__________________________________________________________________________________________________\n",
      "add_8 (Add)                     (None, 16, 16, 32)   0           add_7[0][0]                      \n",
      "                                                                 conv2d_18[0][0]                  \n",
      "__________________________________________________________________________________________________\n",
      "batch_normalization_17 (BatchNo (None, 16, 16, 32)   128         add_8[0][0]                      \n",
      "__________________________________________________________________________________________________\n",
      "activation_17 (Activation)      (None, 16, 16, 32)   0           batch_normalization_17[0][0]     \n",
      "__________________________________________________________________________________________________\n",
      "conv2d_19 (Conv2D)              (None, 16, 16, 32)   9248        activation_17[0][0]              \n",
      "__________________________________________________________________________________________________\n",
      "batch_normalization_18 (BatchNo (None, 16, 16, 32)   128         conv2d_19[0][0]                  \n",
      "__________________________________________________________________________________________________\n",
      "activation_18 (Activation)      (None, 16, 16, 32)   0           batch_normalization_18[0][0]     \n",
      "__________________________________________________________________________________________________\n",
      "conv2d_20 (Conv2D)              (None, 16, 16, 32)   9248        activation_18[0][0]              \n",
      "__________________________________________________________________________________________________\n",
      "add_9 (Add)                     (None, 16, 16, 32)   0           add_8[0][0]                      \n",
      "                                                                 conv2d_20[0][0]                  \n",
      "__________________________________________________________________________________________________\n",
      "batch_normalization_19 (BatchNo (None, 16, 16, 32)   128         add_9[0][0]                      \n",
      "__________________________________________________________________________________________________\n",
      "activation_19 (Activation)      (None, 16, 16, 32)   0           batch_normalization_19[0][0]     \n",
      "__________________________________________________________________________________________________\n",
      "conv2d_21 (Conv2D)              (None, 16, 16, 32)   9248        activation_19[0][0]              \n",
      "__________________________________________________________________________________________________\n",
      "batch_normalization_20 (BatchNo (None, 16, 16, 32)   128         conv2d_21[0][0]                  \n",
      "__________________________________________________________________________________________________\n",
      "activation_20 (Activation)      (None, 16, 16, 32)   0           batch_normalization_20[0][0]     \n",
      "__________________________________________________________________________________________________\n",
      "conv2d_22 (Conv2D)              (None, 16, 16, 32)   9248        activation_20[0][0]              \n",
      "__________________________________________________________________________________________________\n",
      "add_10 (Add)                    (None, 16, 16, 32)   0           add_9[0][0]                      \n",
      "                                                                 conv2d_22[0][0]                  \n",
      "__________________________________________________________________________________________________\n",
      "batch_normalization_21 (BatchNo (None, 16, 16, 32)   128         add_10[0][0]                     \n",
      "__________________________________________________________________________________________________\n",
      "activation_21 (Activation)      (None, 16, 16, 32)   0           batch_normalization_21[0][0]     \n",
      "__________________________________________________________________________________________________\n",
      "conv2d_23 (Conv2D)              (None, 8, 8, 64)     18496       activation_21[0][0]              \n",
      "__________________________________________________________________________________________________\n",
      "batch_normalization_22 (BatchNo (None, 8, 8, 64)     256         conv2d_23[0][0]                  \n",
      "__________________________________________________________________________________________________\n",
      "activation_22 (Activation)      (None, 8, 8, 64)     0           batch_normalization_22[0][0]     \n",
      "__________________________________________________________________________________________________\n",
      "conv2d_25 (Conv2D)              (None, 8, 8, 64)     2112        add_10[0][0]                     \n",
      "__________________________________________________________________________________________________\n",
      "conv2d_24 (Conv2D)              (None, 8, 8, 64)     36928       activation_22[0][0]              \n",
      "__________________________________________________________________________________________________\n",
      "add_11 (Add)                    (None, 8, 8, 64)     0           conv2d_25[0][0]                  \n",
      "                                                                 conv2d_24[0][0]                  \n",
      "__________________________________________________________________________________________________\n",
      "batch_normalization_23 (BatchNo (None, 8, 8, 64)     256         add_11[0][0]                     \n",
      "__________________________________________________________________________________________________\n",
      "activation_23 (Activation)      (None, 8, 8, 64)     0           batch_normalization_23[0][0]     \n",
      "__________________________________________________________________________________________________\n",
      "conv2d_26 (Conv2D)              (None, 8, 8, 64)     36928       activation_23[0][0]              \n",
      "__________________________________________________________________________________________________\n",
      "batch_normalization_24 (BatchNo (None, 8, 8, 64)     256         conv2d_26[0][0]                  \n",
      "__________________________________________________________________________________________________\n",
      "activation_24 (Activation)      (None, 8, 8, 64)     0           batch_normalization_24[0][0]     \n",
      "__________________________________________________________________________________________________\n",
      "conv2d_27 (Conv2D)              (None, 8, 8, 64)     36928       activation_24[0][0]              \n",
      "__________________________________________________________________________________________________\n",
      "add_12 (Add)                    (None, 8, 8, 64)     0           add_11[0][0]                     \n",
      "                                                                 conv2d_27[0][0]                  \n",
      "__________________________________________________________________________________________________\n",
      "batch_normalization_25 (BatchNo (None, 8, 8, 64)     256         add_12[0][0]                     \n",
      "__________________________________________________________________________________________________\n",
      "activation_25 (Activation)      (None, 8, 8, 64)     0           batch_normalization_25[0][0]     \n",
      "__________________________________________________________________________________________________\n",
      "conv2d_28 (Conv2D)              (None, 8, 8, 64)     36928       activation_25[0][0]              \n",
      "__________________________________________________________________________________________________\n",
      "batch_normalization_26 (BatchNo (None, 8, 8, 64)     256         conv2d_28[0][0]                  \n",
      "__________________________________________________________________________________________________\n",
      "activation_26 (Activation)      (None, 8, 8, 64)     0           batch_normalization_26[0][0]     \n",
      "__________________________________________________________________________________________________\n",
      "conv2d_29 (Conv2D)              (None, 8, 8, 64)     36928       activation_26[0][0]              \n",
      "__________________________________________________________________________________________________\n",
      "add_13 (Add)                    (None, 8, 8, 64)     0           add_12[0][0]                     \n",
      "                                                                 conv2d_29[0][0]                  \n",
      "__________________________________________________________________________________________________\n",
      "batch_normalization_27 (BatchNo (None, 8, 8, 64)     256         add_13[0][0]                     \n",
      "__________________________________________________________________________________________________\n",
      "activation_27 (Activation)      (None, 8, 8, 64)     0           batch_normalization_27[0][0]     \n",
      "__________________________________________________________________________________________________\n",
      "conv2d_30 (Conv2D)              (None, 8, 8, 64)     36928       activation_27[0][0]              \n",
      "__________________________________________________________________________________________________\n",
      "batch_normalization_28 (BatchNo (None, 8, 8, 64)     256         conv2d_30[0][0]                  \n",
      "__________________________________________________________________________________________________\n",
      "activation_28 (Activation)      (None, 8, 8, 64)     0           batch_normalization_28[0][0]     \n",
      "__________________________________________________________________________________________________\n",
      "conv2d_31 (Conv2D)              (None, 8, 8, 64)     36928       activation_28[0][0]              \n",
      "__________________________________________________________________________________________________\n",
      "add_14 (Add)                    (None, 8, 8, 64)     0           add_13[0][0]                     \n",
      "                                                                 conv2d_31[0][0]                  \n",
      "__________________________________________________________________________________________________\n",
      "batch_normalization_29 (BatchNo (None, 8, 8, 64)     256         add_14[0][0]                     \n",
      "__________________________________________________________________________________________________\n",
      "activation_29 (Activation)      (None, 8, 8, 64)     0           batch_normalization_29[0][0]     \n",
      "__________________________________________________________________________________________________\n",
      "conv2d_32 (Conv2D)              (None, 8, 8, 64)     36928       activation_29[0][0]              \n",
      "__________________________________________________________________________________________________\n",
      "batch_normalization_30 (BatchNo (None, 8, 8, 64)     256         conv2d_32[0][0]                  \n",
      "__________________________________________________________________________________________________\n",
      "activation_30 (Activation)      (None, 8, 8, 64)     0           batch_normalization_30[0][0]     \n",
      "__________________________________________________________________________________________________\n",
      "conv2d_33 (Conv2D)              (None, 8, 8, 64)     36928       activation_30[0][0]              \n",
      "__________________________________________________________________________________________________\n",
      "add_15 (Add)                    (None, 8, 8, 64)     0           add_14[0][0]                     \n",
      "                                                                 conv2d_33[0][0]                  \n",
      "__________________________________________________________________________________________________\n",
      "batch_normalization_31 (BatchNo (None, 8, 8, 64)     256         add_15[0][0]                     \n",
      "__________________________________________________________________________________________________\n",
      "activation_31 (Activation)      (None, 8, 8, 64)     0           batch_normalization_31[0][0]     \n",
      "__________________________________________________________________________________________________\n",
      "dropout_1 (Dropout)             (None, 8, 8, 64)     0           activation_31[0][0]              \n",
      "__________________________________________________________________________________________________\n",
      "average_pooling2d_1 (AveragePoo (None, 1, 1, 64)     0           dropout_1[0][0]                  \n",
      "__________________________________________________________________________________________________\n",
      "flatten_1 (Flatten)             (None, 64)           0           average_pooling2d_1[0][0]        \n",
      "__________________________________________________________________________________________________\n",
      "classifier (Dense)              (None, 10)           650         flatten_1[0][0]                  \n",
      "==================================================================================================\n",
      "Total params: 470,218\n",
      "Trainable params: 467,946\n",
      "Non-trainable params: 2,272\n",
      "__________________________________________________________________________________________________\n"
     ]
    }
   ],
   "source": [
    "classifier_model.summary()"
   ]
  },
  {
   "cell_type": "markdown",
   "metadata": {},
   "source": [
    "Evaluate the classifier on the first n_test test images:"
   ]
  },
  {
   "cell_type": "code",
   "execution_count": 5,
   "metadata": {},
   "outputs": [
    {
     "name": "stdout",
     "output_type": "stream",
     "text": [
      "Original test data (first n_test images):\n",
      "Correctly classified: 191\n",
      "Incorrectly classified: 9\n"
     ]
    }
   ],
   "source": [
    "x_test_pred = np.argmax(classifier.predict(x_test[:n_test]), axis=1)\n",
    "nb_correct_pred = np.sum(x_test_pred == np.argmax(y_test[:n_test], axis=1))\n",
    "\n",
    "print(\"Original test data (first n_test images):\")\n",
    "print(\"Correctly classified: {}\".format(nb_correct_pred))\n",
    "print(\"Incorrectly classified: {}\".format(n_test-nb_correct_pred))"
   ]
  },
  {
   "cell_type": "markdown",
   "metadata": {},
   "source": [
    "For illustration purposes, look at the first 9 images. (In brackets: true labels.)"
   ]
  },
  {
   "cell_type": "code",
   "execution_count": 6,
   "metadata": {},
   "outputs": [
    {
     "data": {
      "image/png": "[encoded data removed]",
      "text/plain": [
       "<Figure size 720x720 with 9 Axes>"
      ]
     },
     "metadata": {
      "needs_background": "light"
     },
     "output_type": "display_data"
    }
   ],
   "source": [
    "plt.figure(figsize=(10,10))\n",
    "for i in range(0, 9):\n",
    "    pred_label, true_label = class_descr[x_test_pred[i]], class_descr[np.argmax(y_test[i])]\n",
    "    plt.subplot(330 + 1 + i)\n",
    "    fig=plt.imshow(x_test[i])\n",
    "    fig.axes.get_xaxis().set_visible(False)\n",
    "    fig.axes.get_yaxis().set_visible(False)\n",
    "    fig.axes.text(0.5, -0.1, pred_label + \" (\" + true_label + \")\", fontsize=12, transform=fig.axes.transAxes, \n",
    "                  horizontalalignment='center')"
   ]
  },
  {
   "cell_type": "markdown",
   "metadata": {},
   "source": [
    "Generate some adversarial samples:"
   ]
  },
  {
   "cell_type": "code",
   "execution_count": 7,
   "metadata": {},
   "outputs": [],
   "source": [
    "attacker = FastGradientMethod(classifier, eps=0.05)\n",
    "x_test_adv = attacker.generate(x_test[:n_test]) # this takes about two minutes"
   ]
  },
  {
   "cell_type": "markdown",
   "metadata": {},
   "source": [
    "Evaluate the classifier on n_test adversarial samples:"
   ]
  },
  {
   "cell_type": "code",
   "execution_count": 8,
   "metadata": {},
   "outputs": [
    {
     "name": "stdout",
     "output_type": "stream",
     "text": [
      "Adversarial test data (first n_test images):\n",
      "Correctly classified: 44\n",
      "Incorrectly classified: 156\n"
     ]
    }
   ],
   "source": [
    "x_test_adv_pred = np.argmax(classifier.predict(x_test_adv), axis=1)\n",
    "nb_correct_adv_pred = np.sum(x_test_adv_pred == np.argmax(y_test[:n_test], axis=1))\n",
    "\n",
    "print(\"Adversarial test data (first n_test images):\")\n",
    "print(\"Correctly classified: {}\".format(nb_correct_adv_pred))\n",
    "print(\"Incorrectly classified: {}\".format(n_test-nb_correct_adv_pred))"
   ]
  },
  {
   "cell_type": "markdown",
   "metadata": {},
   "source": [
    "Now plot the adversarial images and their predicted labels (in brackets: true labels)."
   ]
  },
  {
   "cell_type": "code",
   "execution_count": 9,
   "metadata": {},
   "outputs": [
    {
     "data": {
      "image/png": "[encoded data removed]",
      "text/plain": [
       "<Figure size 720x720 with 9 Axes>"
      ]
     },
     "metadata": {
      "needs_background": "light"
     },
     "output_type": "display_data"
    }
   ],
   "source": [
    "plt.figure(figsize=(10,10))\n",
    "for i in range(0, 9):\n",
    "    pred_label, true_label = class_descr[x_test_adv_pred[i]], class_descr[np.argmax(y_test[i])]\n",
    "    plt.subplot(330 + 1 + i)\n",
    "    fig=plt.imshow(x_test_adv[i])\n",
    "    fig.axes.get_xaxis().set_visible(False)\n",
    "    fig.axes.get_yaxis().set_visible(False)\n",
    "    fig.axes.text(0.5, -0.1, pred_label + \" (\" + true_label + \")\", fontsize=12, transform=fig.axes.transAxes, \n",
    "                  horizontalalignment='center')"
   ]
  },
  {
   "cell_type": "markdown",
   "metadata": {},
   "source": [
    "<a id=\"train_detector\"></a>\n",
    "## 3. Training the detector"
   ]
  },
  {
   "cell_type": "markdown",
   "metadata": {},
   "source": [
    "Load the detector model (which also uses a ResNet architecture):"
   ]
  },
  {
   "cell_type": "code",
   "execution_count": 10,
   "metadata": {},
   "outputs": [],
   "source": [
    "path = get_file('BID_eps=0.05.h5',extract=False, path=ART_DATA_PATH,\n",
    "                url='https://www.dropbox.com/s/cbyfk65497wwbtn/BID_eps%3D0.05.h5?dl=1')\n",
    "detector_model = load_model(path)\n",
    "detector_classifier = KerasClassifier(clip_values=(-0.5, 0.5), model=detector_model, use_logits=False)\n",
    "detector = BinaryInputDetector(detector_classifier)"
   ]
  },
  {
   "cell_type": "code",
   "execution_count": 11,
   "metadata": {},
   "outputs": [
    {
     "name": "stdout",
     "output_type": "stream",
     "text": [
      "Model: \"model_1\"\n",
      "__________________________________________________________________________________________________\n",
      "Layer (type)                    Output Shape         Param #     Connected to                     \n",
      "==================================================================================================\n",
      "input_1 (InputLayer)            (None, 32, 32, 3)    0                                            \n",
      "__________________________________________________________________________________________________\n",
      "conv2d_1 (Conv2D)               (None, 32, 32, 16)   448         input_1[0][0]                    \n",
      "__________________________________________________________________________________________________\n",
      "batch_normalization_1 (BatchNor (None, 32, 32, 16)   64          conv2d_1[0][0]                   \n",
      "__________________________________________________________________________________________________\n",
      "activation_1 (Activation)       (None, 32, 32, 16)   0           batch_normalization_1[0][0]      \n",
      "__________________________________________________________________________________________________\n",
      "conv2d_2 (Conv2D)               (None, 32, 32, 16)   2320        activation_1[0][0]               \n",
      "__________________________________________________________________________________________________\n",
      "batch_normalization_2 (BatchNor (None, 32, 32, 16)   64          conv2d_2[0][0]                   \n",
      "__________________________________________________________________________________________________\n",
      "activation_2 (Activation)       (None, 32, 32, 16)   0           batch_normalization_2[0][0]      \n",
      "__________________________________________________________________________________________________\n",
      "conv2d_3 (Conv2D)               (None, 32, 32, 16)   2320        activation_2[0][0]               \n",
      "__________________________________________________________________________________________________\n",
      "add_1 (Add)                     (None, 32, 32, 16)   0           activation_1[0][0]               \n",
      "                                                                 conv2d_3[0][0]                   \n",
      "__________________________________________________________________________________________________\n",
      "batch_normalization_3 (BatchNor (None, 32, 32, 16)   64          add_1[0][0]                      \n",
      "__________________________________________________________________________________________________\n",
      "activation_3 (Activation)       (None, 32, 32, 16)   0           batch_normalization_3[0][0]      \n",
      "__________________________________________________________________________________________________\n",
      "conv2d_4 (Conv2D)               (None, 32, 32, 16)   2320        activation_3[0][0]               \n",
      "__________________________________________________________________________________________________\n",
      "batch_normalization_4 (BatchNor (None, 32, 32, 16)   64          conv2d_4[0][0]                   \n",
      "__________________________________________________________________________________________________\n",
      "activation_4 (Activation)       (None, 32, 32, 16)   0           batch_normalization_4[0][0]      \n",
      "__________________________________________________________________________________________________\n",
      "conv2d_5 (Conv2D)               (None, 32, 32, 16)   2320        activation_4[0][0]               \n",
      "__________________________________________________________________________________________________\n",
      "add_2 (Add)                     (None, 32, 32, 16)   0           add_1[0][0]                      \n",
      "                                                                 conv2d_5[0][0]                   \n",
      "__________________________________________________________________________________________________\n",
      "batch_normalization_5 (BatchNor (None, 32, 32, 16)   64          add_2[0][0]                      \n",
      "__________________________________________________________________________________________________\n",
      "activation_5 (Activation)       (None, 32, 32, 16)   0           batch_normalization_5[0][0]      \n",
      "__________________________________________________________________________________________________\n",
      "conv2d_6 (Conv2D)               (None, 32, 32, 16)   2320        activation_5[0][0]               \n",
      "__________________________________________________________________________________________________\n",
      "batch_normalization_6 (BatchNor (None, 32, 32, 16)   64          conv2d_6[0][0]                   \n",
      "__________________________________________________________________________________________________\n",
      "activation_6 (Activation)       (None, 32, 32, 16)   0           batch_normalization_6[0][0]      \n",
      "__________________________________________________________________________________________________\n",
      "conv2d_7 (Conv2D)               (None, 32, 32, 16)   2320        activation_6[0][0]               \n",
      "__________________________________________________________________________________________________\n",
      "add_3 (Add)                     (None, 32, 32, 16)   0           add_2[0][0]                      \n",
      "                                                                 conv2d_7[0][0]                   \n",
      "__________________________________________________________________________________________________\n",
      "batch_normalization_7 (BatchNor (None, 32, 32, 16)   64          add_3[0][0]                      \n",
      "__________________________________________________________________________________________________\n",
      "activation_7 (Activation)       (None, 32, 32, 16)   0           batch_normalization_7[0][0]      \n",
      "__________________________________________________________________________________________________\n",
      "conv2d_8 (Conv2D)               (None, 32, 32, 16)   2320        activation_7[0][0]               \n",
      "__________________________________________________________________________________________________\n",
      "batch_normalization_8 (BatchNor (None, 32, 32, 16)   64          conv2d_8[0][0]                   \n",
      "__________________________________________________________________________________________________\n",
      "activation_8 (Activation)       (None, 32, 32, 16)   0           batch_normalization_8[0][0]      \n",
      "__________________________________________________________________________________________________\n",
      "conv2d_9 (Conv2D)               (None, 32, 32, 16)   2320        activation_8[0][0]               \n",
      "__________________________________________________________________________________________________\n",
      "add_4 (Add)                     (None, 32, 32, 16)   0           add_3[0][0]                      \n",
      "                                                                 conv2d_9[0][0]                   \n",
      "__________________________________________________________________________________________________\n",
      "batch_normalization_9 (BatchNor (None, 32, 32, 16)   64          add_4[0][0]                      \n",
      "__________________________________________________________________________________________________\n",
      "activation_9 (Activation)       (None, 32, 32, 16)   0           batch_normalization_9[0][0]      \n",
      "__________________________________________________________________________________________________\n",
      "conv2d_10 (Conv2D)              (None, 32, 32, 16)   2320        activation_9[0][0]               \n",
      "__________________________________________________________________________________________________\n",
      "batch_normalization_10 (BatchNo (None, 32, 32, 16)   64          conv2d_10[0][0]                  \n",
      "__________________________________________________________________________________________________\n",
      "activation_10 (Activation)      (None, 32, 32, 16)   0           batch_normalization_10[0][0]     \n",
      "__________________________________________________________________________________________________\n",
      "conv2d_11 (Conv2D)              (None, 32, 32, 16)   2320        activation_10[0][0]              \n",
      "__________________________________________________________________________________________________\n",
      "add_5 (Add)                     (None, 32, 32, 16)   0           add_4[0][0]                      \n",
      "                                                                 conv2d_11[0][0]                  \n",
      "__________________________________________________________________________________________________\n",
      "batch_normalization_11 (BatchNo (None, 32, 32, 16)   64          add_5[0][0]                      \n",
      "__________________________________________________________________________________________________\n",
      "activation_11 (Activation)      (None, 32, 32, 16)   0           batch_normalization_11[0][0]     \n",
      "__________________________________________________________________________________________________\n",
      "conv2d_12 (Conv2D)              (None, 16, 16, 32)   4640        activation_11[0][0]              \n",
      "__________________________________________________________________________________________________\n",
      "batch_normalization_12 (BatchNo (None, 16, 16, 32)   128         conv2d_12[0][0]                  \n",
      "__________________________________________________________________________________________________\n",
      "activation_12 (Activation)      (None, 16, 16, 32)   0           batch_normalization_12[0][0]     \n",
      "__________________________________________________________________________________________________\n",
      "conv2d_14 (Conv2D)              (None, 16, 16, 32)   544         add_5[0][0]                      \n",
      "__________________________________________________________________________________________________\n",
      "conv2d_13 (Conv2D)              (None, 16, 16, 32)   9248        activation_12[0][0]              \n",
      "__________________________________________________________________________________________________\n",
      "add_6 (Add)                     (None, 16, 16, 32)   0           conv2d_14[0][0]                  \n",
      "                                                                 conv2d_13[0][0]                  \n",
      "__________________________________________________________________________________________________\n",
      "batch_normalization_13 (BatchNo (None, 16, 16, 32)   128         add_6[0][0]                      \n",
      "__________________________________________________________________________________________________\n",
      "activation_13 (Activation)      (None, 16, 16, 32)   0           batch_normalization_13[0][0]     \n",
      "__________________________________________________________________________________________________\n",
      "conv2d_15 (Conv2D)              (None, 16, 16, 32)   9248        activation_13[0][0]              \n",
      "__________________________________________________________________________________________________\n",
      "batch_normalization_14 (BatchNo (None, 16, 16, 32)   128         conv2d_15[0][0]                  \n",
      "__________________________________________________________________________________________________\n",
      "activation_14 (Activation)      (None, 16, 16, 32)   0           batch_normalization_14[0][0]     \n",
      "__________________________________________________________________________________________________\n",
      "conv2d_16 (Conv2D)              (None, 16, 16, 32)   9248        activation_14[0][0]              \n",
      "__________________________________________________________________________________________________\n",
      "add_7 (Add)                     (None, 16, 16, 32)   0           add_6[0][0]                      \n",
      "                                                                 conv2d_16[0][0]                  \n",
      "__________________________________________________________________________________________________\n",
      "batch_normalization_15 (BatchNo (None, 16, 16, 32)   128         add_7[0][0]                      \n",
      "__________________________________________________________________________________________________\n",
      "activation_15 (Activation)      (None, 16, 16, 32)   0           batch_normalization_15[0][0]     \n",
      "__________________________________________________________________________________________________\n",
      "conv2d_17 (Conv2D)              (None, 16, 16, 32)   9248        activation_15[0][0]              \n",
      "__________________________________________________________________________________________________\n",
      "batch_normalization_16 (BatchNo (None, 16, 16, 32)   128         conv2d_17[0][0]                  \n",
      "__________________________________________________________________________________________________\n",
      "activation_16 (Activation)      (None, 16, 16, 32)   0           batch_normalization_16[0][0]     \n",
      "__________________________________________________________________________________________________\n",
      "conv2d_18 (Conv2D)              (None, 16, 16, 32)   9248        activation_16[0][0]              \n",
      "__________________________________________________________________________________________________\n",
      "add_8 (Add)                     (None, 16, 16, 32)   0           add_7[0][0]                      \n",
      "                                                                 conv2d_18[0][0]                  \n",
      "__________________________________________________________________________________________________\n",
      "batch_normalization_17 (BatchNo (None, 16, 16, 32)   128         add_8[0][0]                      \n",
      "__________________________________________________________________________________________________\n",
      "activation_17 (Activation)      (None, 16, 16, 32)   0           batch_normalization_17[0][0]     \n",
      "__________________________________________________________________________________________________\n",
      "conv2d_19 (Conv2D)              (None, 16, 16, 32)   9248        activation_17[0][0]              \n",
      "__________________________________________________________________________________________________\n",
      "batch_normalization_18 (BatchNo (None, 16, 16, 32)   128         conv2d_19[0][0]                  \n",
      "__________________________________________________________________________________________________\n",
      "activation_18 (Activation)      (None, 16, 16, 32)   0           batch_normalization_18[0][0]     \n",
      "__________________________________________________________________________________________________\n",
      "conv2d_20 (Conv2D)              (None, 16, 16, 32)   9248        activation_18[0][0]              \n",
      "__________________________________________________________________________________________________\n",
      "add_9 (Add)                     (None, 16, 16, 32)   0           add_8[0][0]                      \n",
      "                                                                 conv2d_20[0][0]                  \n",
      "__________________________________________________________________________________________________\n",
      "batch_normalization_19 (BatchNo (None, 16, 16, 32)   128         add_9[0][0]                      \n",
      "__________________________________________________________________________________________________\n",
      "activation_19 (Activation)      (None, 16, 16, 32)   0           batch_normalization_19[0][0]     \n",
      "__________________________________________________________________________________________________\n",
      "conv2d_21 (Conv2D)              (None, 16, 16, 32)   9248        activation_19[0][0]              \n",
      "__________________________________________________________________________________________________\n",
      "batch_normalization_20 (BatchNo (None, 16, 16, 32)   128         conv2d_21[0][0]                  \n",
      "__________________________________________________________________________________________________\n",
      "activation_20 (Activation)      (None, 16, 16, 32)   0           batch_normalization_20[0][0]     \n",
      "__________________________________________________________________________________________________\n",
      "conv2d_22 (Conv2D)              (None, 16, 16, 32)   9248        activation_20[0][0]              \n",
      "__________________________________________________________________________________________________\n",
      "add_10 (Add)                    (None, 16, 16, 32)   0           add_9[0][0]                      \n",
      "                                                                 conv2d_22[0][0]                  \n",
      "__________________________________________________________________________________________________\n",
      "batch_normalization_21 (BatchNo (None, 16, 16, 32)   128         add_10[0][0]                     \n",
      "__________________________________________________________________________________________________\n",
      "activation_21 (Activation)      (None, 16, 16, 32)   0           batch_normalization_21[0][0]     \n",
      "__________________________________________________________________________________________________\n",
      "conv2d_23 (Conv2D)              (None, 8, 8, 64)     18496       activation_21[0][0]              \n",
      "__________________________________________________________________________________________________\n",
      "batch_normalization_22 (BatchNo (None, 8, 8, 64)     256         conv2d_23[0][0]                  \n",
      "__________________________________________________________________________________________________\n",
      "activation_22 (Activation)      (None, 8, 8, 64)     0           batch_normalization_22[0][0]     \n",
      "__________________________________________________________________________________________________\n",
      "conv2d_25 (Conv2D)              (None, 8, 8, 64)     2112        add_10[0][0]                     \n",
      "__________________________________________________________________________________________________\n",
      "conv2d_24 (Conv2D)              (None, 8, 8, 64)     36928       activation_22[0][0]              \n",
      "__________________________________________________________________________________________________\n",
      "add_11 (Add)                    (None, 8, 8, 64)     0           conv2d_25[0][0]                  \n",
      "                                                                 conv2d_24[0][0]                  \n",
      "__________________________________________________________________________________________________\n",
      "batch_normalization_23 (BatchNo (None, 8, 8, 64)     256         add_11[0][0]                     \n",
      "__________________________________________________________________________________________________\n",
      "activation_23 (Activation)      (None, 8, 8, 64)     0           batch_normalization_23[0][0]     \n",
      "__________________________________________________________________________________________________\n",
      "conv2d_26 (Conv2D)              (None, 8, 8, 64)     36928       activation_23[0][0]              \n",
      "__________________________________________________________________________________________________\n",
      "batch_normalization_24 (BatchNo (None, 8, 8, 64)     256         conv2d_26[0][0]                  \n",
      "__________________________________________________________________________________________________\n",
      "activation_24 (Activation)      (None, 8, 8, 64)     0           batch_normalization_24[0][0]     \n",
      "__________________________________________________________________________________________________\n",
      "conv2d_27 (Conv2D)              (None, 8, 8, 64)     36928       activation_24[0][0]              \n",
      "__________________________________________________________________________________________________\n",
      "add_12 (Add)                    (None, 8, 8, 64)     0           add_11[0][0]                     \n",
      "                                                                 conv2d_27[0][0]                  \n",
      "__________________________________________________________________________________________________\n",
      "batch_normalization_25 (BatchNo (None, 8, 8, 64)     256         add_12[0][0]                     \n",
      "__________________________________________________________________________________________________\n",
      "activation_25 (Activation)      (None, 8, 8, 64)     0           batch_normalization_25[0][0]     \n",
      "__________________________________________________________________________________________________\n",
      "conv2d_28 (Conv2D)              (None, 8, 8, 64)     36928       activation_25[0][0]              \n",
      "__________________________________________________________________________________________________\n",
      "batch_normalization_26 (BatchNo (None, 8, 8, 64)     256         conv2d_28[0][0]                  \n",
      "__________________________________________________________________________________________________\n",
      "activation_26 (Activation)      (None, 8, 8, 64)     0           batch_normalization_26[0][0]     \n",
      "__________________________________________________________________________________________________\n",
      "conv2d_29 (Conv2D)              (None, 8, 8, 64)     36928       activation_26[0][0]              \n",
      "__________________________________________________________________________________________________\n",
      "add_13 (Add)                    (None, 8, 8, 64)     0           add_12[0][0]                     \n",
      "                                                                 conv2d_29[0][0]                  \n",
      "__________________________________________________________________________________________________\n",
      "batch_normalization_27 (BatchNo (None, 8, 8, 64)     256         add_13[0][0]                     \n",
      "__________________________________________________________________________________________________\n",
      "activation_27 (Activation)      (None, 8, 8, 64)     0           batch_normalization_27[0][0]     \n",
      "__________________________________________________________________________________________________\n",
      "conv2d_30 (Conv2D)              (None, 8, 8, 64)     36928       activation_27[0][0]              \n",
      "__________________________________________________________________________________________________\n",
      "batch_normalization_28 (BatchNo (None, 8, 8, 64)     256         conv2d_30[0][0]                  \n",
      "__________________________________________________________________________________________________\n",
      "activation_28 (Activation)      (None, 8, 8, 64)     0           batch_normalization_28[0][0]     \n",
      "__________________________________________________________________________________________________\n",
      "conv2d_31 (Conv2D)              (None, 8, 8, 64)     36928       activation_28[0][0]              \n",
      "__________________________________________________________________________________________________\n",
      "add_14 (Add)                    (None, 8, 8, 64)     0           add_13[0][0]                     \n",
      "                                                                 conv2d_31[0][0]                  \n",
      "__________________________________________________________________________________________________\n",
      "batch_normalization_29 (BatchNo (None, 8, 8, 64)     256         add_14[0][0]                     \n",
      "__________________________________________________________________________________________________\n",
      "activation_29 (Activation)      (None, 8, 8, 64)     0           batch_normalization_29[0][0]     \n",
      "__________________________________________________________________________________________________\n",
      "conv2d_32 (Conv2D)              (None, 8, 8, 64)     36928       activation_29[0][0]              \n",
      "__________________________________________________________________________________________________\n",
      "batch_normalization_30 (BatchNo (None, 8, 8, 64)     256         conv2d_32[0][0]                  \n",
      "__________________________________________________________________________________________________\n",
      "activation_30 (Activation)      (None, 8, 8, 64)     0           batch_normalization_30[0][0]     \n",
      "__________________________________________________________________________________________________\n",
      "conv2d_33 (Conv2D)              (None, 8, 8, 64)     36928       activation_30[0][0]              \n",
      "__________________________________________________________________________________________________\n",
      "add_15 (Add)                    (None, 8, 8, 64)     0           add_14[0][0]                     \n",
      "                                                                 conv2d_33[0][0]                  \n",
      "__________________________________________________________________________________________________\n",
      "batch_normalization_31 (BatchNo (None, 8, 8, 64)     256         add_15[0][0]                     \n",
      "__________________________________________________________________________________________________\n",
      "activation_31 (Activation)      (None, 8, 8, 64)     0           batch_normalization_31[0][0]     \n",
      "__________________________________________________________________________________________________\n",
      "dropout_1 (Dropout)             (None, 8, 8, 64)     0           activation_31[0][0]              \n",
      "__________________________________________________________________________________________________\n",
      "average_pooling2d_1 (AveragePoo (None, 1, 1, 64)     0           dropout_1[0][0]                  \n",
      "__________________________________________________________________________________________________\n",
      "flatten_1 (Flatten)             (None, 64)           0           average_pooling2d_1[0][0]        \n",
      "__________________________________________________________________________________________________\n",
      "classifier (Dense)              (None, 2)            130         flatten_1[0][0]                  \n",
      "==================================================================================================\n",
      "Total params: 469,698\n",
      "Trainable params: 467,426\n",
      "Non-trainable params: 2,272\n",
      "__________________________________________________________________________________________________\n"
     ]
    }
   ],
   "source": [
    "detector_model.summary()"
   ]
  },
  {
   "cell_type": "markdown",
   "metadata": {},
   "source": [
    "To train the detector:\n",
    "- we expand our training set with adversarial samples\n",
    "- we label the data with 0 (original) and 1 (adversarial)"
   ]
  },
  {
   "cell_type": "code",
   "execution_count": 12,
   "metadata": {},
   "outputs": [],
   "source": [
    "x_train_adv = attacker.generate(x_train)\n",
    "nb_train = x_train.shape[0]\n",
    "\n",
    "x_train_detector = np.concatenate((x_train, x_train_adv), axis=0)\n",
    "y_train_detector = np.concatenate((np.array([[1,0]]*nb_train), np.array([[0,1]]*nb_train)), axis=0)"
   ]
  },
  {
   "cell_type": "markdown",
   "metadata": {},
   "source": [
    "Perform the training:"
   ]
  },
  {
   "cell_type": "code",
   "execution_count": 13,
   "metadata": {},
   "outputs": [
    {
     "name": "stdout",
     "output_type": "stream",
     "text": [
      "Epoch 1/20\n",
      "20/20 [==============================] - 26s 1s/step - loss: 0.0149 - accuracy: 0.9975\n",
      "Epoch 2/20\n",
      "20/20 [==============================] - 10s 494ms/step - loss: 0.0096 - accuracy: 0.9975\n",
      "Epoch 3/20\n",
      "20/20 [==============================] - 10s 515ms/step - loss: 0.0058 - accuracy: 1.0000\n",
      "Epoch 4/20\n",
      "20/20 [==============================] - 11s 543ms/step - loss: 0.0062 - accuracy: 1.0000\n",
      "Epoch 5/20\n",
      "20/20 [==============================] - 9s 451ms/step - loss: 0.0061 - accuracy: 1.0000\n",
      "Epoch 6/20\n",
      "20/20 [==============================] - 9s 443ms/step - loss: 0.0090 - accuracy: 0.9975\n",
      "Epoch 7/20\n",
      "20/20 [==============================] - 11s 533ms/step - loss: 0.0064 - accuracy: 1.0000\n",
      "Epoch 8/20\n",
      "20/20 [==============================] - 12s 578ms/step - loss: 0.0055 - accuracy: 1.0000\n",
      "Epoch 9/20\n",
      "20/20 [==============================] - 10s 522ms/step - loss: 0.0094 - accuracy: 0.9975\n",
      "Epoch 10/20\n",
      "20/20 [==============================] - 9s 455ms/step - loss: 0.0051 - accuracy: 1.0000\n",
      "Epoch 11/20\n",
      "20/20 [==============================] - 10s 482ms/step - loss: 0.0045 - accuracy: 1.0000\n",
      "Epoch 12/20\n",
      "20/20 [==============================] - 11s 534ms/step - loss: 0.0044 - accuracy: 1.0000\n",
      "Epoch 13/20\n",
      "20/20 [==============================] - 10s 477ms/step - loss: 0.0039 - accuracy: 1.0000\n",
      "Epoch 14/20\n",
      "20/20 [==============================] - 9s 455ms/step - loss: 0.0052 - accuracy: 1.0000\n",
      "Epoch 15/20\n",
      "20/20 [==============================] - 10s 499ms/step - loss: 0.0114 - accuracy: 0.9950\n",
      "Epoch 16/20\n",
      "20/20 [==============================] - 9s 461ms/step - loss: 0.0037 - accuracy: 1.0000\n",
      "Epoch 17/20\n",
      "20/20 [==============================] - 9s 446ms/step - loss: 0.0119 - accuracy: 0.9975\n",
      "Epoch 18/20\n",
      "20/20 [==============================] - 10s 505ms/step - loss: 0.0056 - accuracy: 0.9975\n",
      "Epoch 19/20\n",
      "20/20 [==============================] - 14s 690ms/step - loss: 0.0036 - accuracy: 1.0000\n",
      "Epoch 20/20\n",
      "20/20 [==============================] - 11s 572ms/step - loss: 0.0087 - accuracy: 0.9975\n"
     ]
    }
   ],
   "source": [
    "detector.fit(x_train_detector, y_train_detector, nb_epochs=20, batch_size=20)"
   ]
  },
  {
   "cell_type": "markdown",
   "metadata": {},
   "source": [
    "<a id=\"detector\"></a>\n",
    "## 4. Evaluating the detector"
   ]
  },
  {
   "cell_type": "markdown",
   "metadata": {},
   "source": [
    "Apply the detector to the adversarial test data:"
   ]
  },
  {
   "cell_type": "code",
   "execution_count": 14,
   "metadata": {},
   "outputs": [
    {
     "name": "stdout",
     "output_type": "stream",
     "text": [
      "Adversarial test data (first n_test images):\n",
      "Flagged: 200\n",
      "Not flagged: 0\n"
     ]
    }
   ],
   "source": [
    "flag_adv = np.sum(np.argmax(detector.predict(x_test_adv), axis=1) == 1)\n",
    "\n",
    "print(\"Adversarial test data (first n_test images):\")\n",
    "print(\"Flagged: {}\".format(flag_adv))\n",
    "print(\"Not flagged: {}\".format(n_test - flag_adv))"
   ]
  },
  {
   "cell_type": "markdown",
   "metadata": {},
   "source": [
    "Apply the detector to the first n_test original test images:"
   ]
  },
  {
   "cell_type": "code",
   "execution_count": 15,
   "metadata": {},
   "outputs": [
    {
     "name": "stdout",
     "output_type": "stream",
     "text": [
      "Original test data (first n_test images):\n",
      "Flagged: 200\n",
      "Not flagged: 0\n"
     ]
    }
   ],
   "source": [
    "flag_original = np.sum(np.argmax(detector.predict(x_test[:n_test]), axis=1) == 1)\n",
    "\n",
    "print(\"Original test data (first n_test images):\")\n",
    "print(\"Flagged: {}\".format(flag_original))\n",
    "print(\"Not flagged: {}\".format(n_test - flag_original))"
   ]
  },
  {
   "cell_type": "markdown",
   "metadata": {},
   "source": [
    "Evaluate the detector for different attack strengths `eps`\n",
    "(**Note**: for the training of detector, `eps=0.05` was used)"
   ]
  },
  {
   "cell_type": "code",
   "execution_count": 16,
   "metadata": {},
   "outputs": [],
   "source": [
    "eps_range = [0, 0.01, 0.02, 0.03, 0.04, 0.05, 0.1, 0.15, 0.2, 0.25, 0.3, 0.35, 0.4, 0.45, 0.5]\n",
    "nb_flag_adv = []\n",
    "nb_missclass = []\n",
    "all_x_test_adv = {}\n",
    "\n",
    "for eps in eps_range:\n",
    "    if eps > 0:\n",
    "        attacker.set_params(**{'eps': eps})\n",
    "        x_test_adv = attacker.generate(x_test[:n_test])\n",
    "    else:\n",
    "        x_test_adv = x_test\n",
    "    all_x_test_adv[eps] = x_test_adv\n",
    "    nb_flag_adv += [np.sum(np.argmax(detector.predict(x_test_adv), axis=1) == 1)]\n",
    "    nb_missclass += [np.sum(np.argmax(classifier.predict(x_test_adv), axis=1) != np.argmax(y_test[:n_test],\n",
    "                                                                                           axis=1))]\n",
    "    \n",
    "eps_range = eps_range\n",
    "nb_flag_adv = nb_flag_adv\n",
    "nb_missclass = nb_missclass"
   ]
  },
  {
   "cell_type": "code",
   "execution_count": 17,
   "metadata": {},
   "outputs": [
    {
     "data": {
      "image/png": "[encoded data removed]",
      "text/plain": [
       "<Figure size 432x288 with 1 Axes>"
      ]
     },
     "metadata": {
      "needs_background": "light"
     },
     "output_type": "display_data"
    }
   ],
   "source": [
    "fig, ax = plt.subplots()\n",
    "ax.plot(eps_range, nb_flag_adv, 'b--', label='Detector flags')\n",
    "ax.plot(eps_range, nb_missclass, 'r--', label='Classifier errors')\n",
    "\n",
    "legend = ax.legend(loc='center right', shadow=True, fontsize='large')\n",
    "legend.get_frame().set_facecolor('#00FFCC')\n",
    "\n",
    "plt.xlabel('Attack strength ($\\\\varepsilon$)')\n",
    "plt.ylabel('Per %d adversarial samples' % n_test)\n",
    "plt.show()"
   ]
  },
  {
   "cell_type": "markdown",
   "metadata": {},
   "source": [
    "<a id=\"crazy\"></a>\n",
    "## 5. Crazy stuff\n",
    "\n",
    "Now let's build a detector which simply looks at the intermediate activations of the host model. The feature vector of our detector will simply be a `FeatureUnion` of PCA transforms of these intermediate activations. The detector can run in both `supervised` and `unsupervised` modes, depending on whether `y` is provided or not during fitting. Everything will be done using `sklearn`"
   ]
  },
  {
   "cell_type": "code",
   "execution_count": 18,
   "metadata": {},
   "outputs": [],
   "source": [
    "import typing\n",
    "\n",
    "from sklearn.decomposition import PCA\n",
    "from sklearn.base import clone, BaseEstimator, ClassifierMixin\n",
    "from sklearn.svm import OneClassSVM\n",
    "from sklearn.linear_model import LogisticRegressionCV\n",
    "\n",
    "import keras\n",
    "\n",
    "\n",
    "class SklearnDetector(BaseEstimator, ClassifierMixin):\n",
    "    def __init__(self, n_components=20, random_state=None, skip_layer_names=None):\n",
    "        super(SklearnDetector, self).__init__()\n",
    "        self.n_components = n_components\n",
    "        self.random_state = random_state\n",
    "        self.skip_layer_names = skip_layer_names\n",
    "        \n",
    "    def _skip_layer(self, layer):\n",
    "        \"\"\"\n",
    "        Decides where layer should be included or excluded in analysis\n",
    "        \"\"\"\n",
    "        bad_names = self.skip_layer_names\n",
    "        if bad_names is None:\n",
    "            bad_names = [\"input\", \"flatten\", \"dropout\", \"add\", \"activation\",\n",
    "                         \"classifier\", \"reshape\", \"concat\"]\n",
    "        layer_name = layer.name.lower()\n",
    "        for bad_name in  bad_names:\n",
    "            if bad_name in layer_name:\n",
    "                return True\n",
    "        else:\n",
    "            return False\n",
    "\n",
    "    def _get_classifier_output_tensors(self):\n",
    "        layer_names = []\n",
    "        outputs = []\n",
    "        for layer in classifier_model.layers:\n",
    "            if not self._skip_layer(layer):\n",
    "                layer_names.append(layer.name)\n",
    "                outputs.append(layer.output)\n",
    "        self.layer_names = layer_names\n",
    "        return outputs\n",
    "        \n",
    "    def _build_classifier_activation_model(self):\n",
    "        \"\"\"\n",
    "        Build model for producing intermediate activations of the host classifier.\n",
    "        \"\"\"\n",
    "        outputs = self._get_classifier_output_tensors()\n",
    "        self.classifier_activation_model = keras.models.Model(input=classifier_model.input,\n",
    "                                                              outputs=outputs)\n",
    "\n",
    "    def _build_layer_pcas(self):\n",
    "        \"\"\"\n",
    "        Build pca model for each intermediate activation layer of host classifier.\n",
    "        \"\"\"\n",
    "        self.pcas = [PCA(n_components=self.n_components, random_state=self.random_state)\n",
    "                     for _ in self.layer_names]\n",
    "\n",
    "    def _build(self):\n",
    "        self._build_classifier_activation_model()\n",
    "        self._build_layer_pcas()\n",
    "\n",
    "    def _get_classifier_activations(self, X, ravel=True) -> typing.List[np.array]:\n",
    "        \"\"\"\n",
    "        Get the activation of each intermediate layer of the host classifier.\n",
    "        \"\"\"\n",
    "        classifier_activations = self.classifier_activation_model.predict(X)\n",
    "        if isinstance(classifier_activations, np.ndarray):\n",
    "            # keras eats up dimension 0 of model output if model has only one ouput tensor!\n",
    "            classifier_activations = [classifier_activations]\n",
    "        if ravel:\n",
    "            classifier_activations = [Z.reshape((len(Z), -1)) for Z in classifier_activations]\n",
    "        return classifier_activations\n",
    "    \n",
    "    def _transform(self, classifier_activations):\n",
    "        codes = []\n",
    "        for pca, Z in zip(self.pcas, classifier_activations):\n",
    "            codes.append(pca.transform(Z))\n",
    "        return np.concatenate(codes, axis=1)\n",
    "\n",
    "    def transform(self, X):\n",
    "        \"\"\"\n",
    "        Get dimensionality-reduced intermediate activations of host classifier.\n",
    "        \"\"\"\n",
    "        classifier_activations = self._get_classifier_activations(X)\n",
    "        return self._transform(classifier_activations)\n",
    "    \n",
    "    def fit(self, X, y=None):\n",
    "        \"\"\"\n",
    "        y: ndarray, optional (default None)\n",
    "            If provided, we will, the detector will be a logistic-regression model (i.e supervised).\n",
    "            Otherwise, the detector will be a one-class SVM (i.e unsupervided).\n",
    "        \"\"\"\n",
    "        self._build()\n",
    "        classifier_activations = self._get_classifier_activations(X)\n",
    "        for classifier_layer_pca, Z in zip(self.pcas, classifier_activations):\n",
    "            classifier_layer_pca.fit(Z)\n",
    "        codes = self._transform(classifier_activations)\n",
    "\n",
    "        if y is None:\n",
    "            self.final = OneClassSVM()\n",
    "        else:\n",
    "            self.final = LogisticRegressionCV(cv=3, random_state=self.random_state)\n",
    "        self.final.fit(codes, y)\n",
    "        return self\n",
    "    \n",
    "    def predict(self, X):\n",
    "        codes = self.transform(X)\n",
    "        return self.final.predict(codes)"
   ]
  },
  {
   "cell_type": "code",
   "execution_count": 19,
   "metadata": {},
   "outputs": [],
   "source": [
    "# can things be simplified ?\n",
    "\n",
    "class SklearnDetectorLastHiddenLayer(SklearnDetector):\n",
    "    \"\"\"\n",
    "    Only use activations from last hidden layer of host classifier\n",
    "    \"\"\"\n",
    "\n",
    "    def _build_classifier_activation_model(self):\n",
    "        outputs = self._get_classifier_output_tensors()\n",
    "        self.layer_names = self.layer_names[-1:]\n",
    "        outputs = outputs[-1:]\n",
    "        self.classifier_activation_model = keras.models.Model(input=classifier_model.input,\n",
    "                                                              outputs=outputs)\n",
    "        \n",
    "class SklearnDetectorFirstHiddenLayer(SklearnDetector):\n",
    "    \"\"\"\n",
    "    Only use activations from first hidden layer of host classifier\n",
    "    \"\"\"\n",
    "    \n",
    "    def _build_classifier_activation_model(self):\n",
    "        outputs = self._get_classifier_output_tensors()\n",
    "        self.layer_names = self.layer_names[:1]\n",
    "        outputs = outputs[:1]\n",
    "        self.classifier_activation_model = keras.models.Model(input=classifier_model.input,\n",
    "                                                              outputs=outputs)"
   ]
  },
  {
   "cell_type": "code",
   "execution_count": 20,
   "metadata": {},
   "outputs": [],
   "source": [
    "# fit our detectors\n",
    "my_detectors = {}\n",
    "if False:\n",
    "    n_components = 10\n",
    "    y_detector_flat = 2 * y_train_detector.argmax(1) - 1\n",
    "    my_detectors[\"supervised\"] = SklearnDetector(n_components=n_components).fit(x_train_detector, y_detector_flat)\n",
    "    my_detectors[\"unsupervised\"] = SklearnDetector(n_components=n_components).fit(x_train)\n",
    "    my_detectors[\"supervised_fhl\"] = SklearnDetectorFirstHiddenLayer(\n",
    "        n_components=2 * n_components).fit(x_train_detector,  y_detector_flat)\n",
    "    my_detectors[\"unsupervised_fhl\"] = SklearnDetectorFirstHiddenLayer(n_components=2 * n_components).fit(x_train)\n",
    "    my_detectors[\"supervised_lhl\"] = SklearnDetectorLastHiddenLayer(\n",
    "        n_components=2 * n_components).fit(x_train_detector,  y_detector_flat)\n",
    "    my_detectors[\"unsupervised_lhl\"] = SklearnDetectorLastHiddenLayer(n_components=2 * n_components).fit(x_train)"
   ]
  },
  {
   "cell_type": "code",
   "execution_count": 21,
   "metadata": {},
   "outputs": [],
   "source": [
    "# evaluate the detectors\n",
    "from sklearn.metrics import roc_auc_score, accuracy_score\n",
    "\n",
    "def roc_auc_score_FIXED(y_true, y_pred):\n",
    "    if len(np.unique(y_true)) == 1: # bug in roc_auc_score\n",
    "        return accuracy_score(y_true, np.rint(y_pred))\n",
    "    return roc_auc_score(y_true, y_pred)\n",
    "\n",
    "# scores = {}\n",
    "for which, my_detector in my_detectors.items():\n",
    "    if which not in [\"unsupervised_id\"]:\n",
    "        continue\n",
    "    print(\"Scores for %s detector\" % which)\n",
    "    y_true = np.concatenate((-np.ones(n_test), np.ones(n_test)))\n",
    "    if \"unsupervised\" in which:\n",
    "        y_true = -y_true\n",
    "    scores[which] = []\n",
    "    for eps in all_x_test_adv:\n",
    "        if eps > 0:\n",
    "            y_pred = my_detector.predict(np.vstack((x_test, all_x_test_adv[eps])))\n",
    "            score = roc_auc_score_FIXED(y_pred, y_true)\n",
    "        else:\n",
    "            score = 0.5\n",
    "        print(\"%.2f ==> %.2f\" % (eps, score))  \n",
    "        if which not in scores:\n",
    "            scores[which] = []\n",
    "        scores[which].append(score)"
   ]
  },
  {
   "cell_type": "code",
   "execution_count": 22,
   "metadata": {},
   "outputs": [
    {
     "ename": "NameError",
     "evalue": "name 'scores' is not defined",
     "output_type": "error",
     "traceback": [
      "\u001b[0;31m---------------------------------------------------------------------------\u001b[0m",
      "\u001b[0;31mNameError\u001b[0m                                 Traceback (most recent call last)",
      "\u001b[0;32m<ipython-input-22-37fd27ed122e>\u001b[0m in \u001b[0;36m<module>\u001b[0;34m\u001b[0m\n\u001b[1;32m     10\u001b[0m \u001b[0;31m# ax.plot(eps_range, scores[\"supervised_lhl\"], 'g-.', label='My sup. last hidden layer detector')\u001b[0m\u001b[0;34m\u001b[0m\u001b[0;34m\u001b[0m\u001b[0;34m\u001b[0m\u001b[0m\n\u001b[1;32m     11\u001b[0m \u001b[0;31m# ax.plot(eps_range, scores[\"unsupervised_lhl\"], 'm-.', label='My unsup. last hidden layer detector')\u001b[0m\u001b[0;34m\u001b[0m\u001b[0;34m\u001b[0m\u001b[0;34m\u001b[0m\u001b[0m\n\u001b[0;32m---> 12\u001b[0;31m \u001b[0max\u001b[0m\u001b[0;34m.\u001b[0m\u001b[0mplot\u001b[0m\u001b[0;34m(\u001b[0m\u001b[0meps_range\u001b[0m\u001b[0;34m,\u001b[0m \u001b[0mscores\u001b[0m\u001b[0;34m[\u001b[0m\u001b[0;34m\"unsupervised_lid\"\u001b[0m\u001b[0;34m]\u001b[0m\u001b[0;34m,\u001b[0m \u001b[0;34m'r-o'\u001b[0m\u001b[0;34m,\u001b[0m \u001b[0mlabel\u001b[0m\u001b[0;34m=\u001b[0m\u001b[0;34m'My LID'\u001b[0m\u001b[0;34m)\u001b[0m\u001b[0;34m\u001b[0m\u001b[0;34m\u001b[0m\u001b[0m\n\u001b[0m\u001b[1;32m     13\u001b[0m \u001b[0;34m\u001b[0m\u001b[0m\n\u001b[1;32m     14\u001b[0m \u001b[0mlegend\u001b[0m \u001b[0;34m=\u001b[0m \u001b[0max\u001b[0m\u001b[0;34m.\u001b[0m\u001b[0mlegend\u001b[0m\u001b[0;34m(\u001b[0m\u001b[0mloc\u001b[0m\u001b[0;34m=\u001b[0m\u001b[0;34m'best'\u001b[0m\u001b[0;34m,\u001b[0m \u001b[0mshadow\u001b[0m\u001b[0;34m=\u001b[0m\u001b[0;32mTrue\u001b[0m\u001b[0;34m,\u001b[0m \u001b[0mfontsize\u001b[0m\u001b[0;34m=\u001b[0m\u001b[0;34m\"large\"\u001b[0m\u001b[0;34m)\u001b[0m\u001b[0;34m\u001b[0m\u001b[0;34m\u001b[0m\u001b[0m\n",
      "\u001b[0;31mNameError\u001b[0m: name 'scores' is not defined"
     ]
    },
    {
     "data": {
      "image/png": "[encoded data removed]",
      "text/plain": [
       "<Figure size 576x504 with 1 Axes>"
      ]
     },
     "metadata": {
      "needs_background": "light"
     },
     "output_type": "display_data"
    }
   ],
   "source": [
    "# plot the results\n",
    "fig, ax = plt.subplots(figsize=(8, 7))\n",
    "# ax.axhline(n_test, linestyle=\"--\", c=\"k\")\n",
    "# ax.plot(eps_range, nb_missclass, 'r-o', label='Classifier errors')\n",
    "# ax.plot(eps_range, nb_flag_adv, 'b-o', label='IBM detector')\n",
    "# ax.plot(eps_range, scores[\"supervised\"], 'g-o', label='My sup. detector')\n",
    "# ax.plot(eps_range, scores[\"unsupervised\"], 'm-o', label='My unsup. detector')\n",
    "# ax.plot(eps_range, scores[\"supervised_fhl\"], 'g--', label='My sup. first hidden layer detector')\n",
    "# ax.plot(eps_range, scores[\"unsupervised_fhl\"], 'm--', label='My unsup. first hidden layer detector')\n",
    "# ax.plot(eps_range, scores[\"supervised_lhl\"], 'g-.', label='My sup. last hidden layer detector')\n",
    "# ax.plot(eps_range, scores[\"unsupervised_lhl\"], 'm-.', label='My unsup. last hidden layer detector')\n",
    "ax.plot(eps_range, scores[\"unsupervised_lid\"], 'r-o', label='My LID')\n",
    "\n",
    "legend = ax.legend(loc='best', shadow=True, fontsize=\"large\")\n",
    "legend.get_frame().set_facecolor('#00FFCC')\n",
    "\n",
    "plt.xlabel('Attack strength ($\\\\varepsilon$)')\n",
    "plt.ylabel('Per %d adversarial samples' % n_test)\n",
    "plt.show()"
   ]
  },
  {
   "cell_type": "markdown",
   "metadata": {},
   "source": [
    "We see that:\n",
    "\n",
    "- IBM's detector solves the task perfectly. However, it will presumably be less accurate on attacks generated via another method\n",
    "- Our supervised detector solves the task, but struggles with small values of the attack strength ($\\varepsilon$).\n",
    "- Neither the first hidden layer nor the last hidden layer is solely sufficient for detecting adversarial examples. We need all intermediate layer activations to solve the task!"
   ]
  },
  {
   "cell_type": "code",
   "execution_count": null,
   "metadata": {},
   "outputs": [],
   "source": [
    "# compute the hidden representations used by our detectors\n",
    "all_codes = []\n",
    "which = \"unsupervised\"\n",
    "for X in all_x_test_adv.values():\n",
    "    codes = my_detectors[which].transform(X)\n",
    "    all_codes.append(codes)\n",
    "all_codes = np.concatenate(all_codes, axis=0)"
   ]
  },
  {
   "cell_type": "code",
   "execution_count": null,
   "metadata": {},
   "outputs": [],
   "source": [
    "# visualize the hidden representations\n",
    "from mpl_toolkits.mplot3d import Axes3D  # noqa: F401 unused import\n",
    "\n",
    "from sklearn.manifold import TSNE\n",
    "\n",
    "colors = np.concatenate([np.full(len(all_x_test_adv[eps]), eps) for eps in all_x_test_adv])\n",
    "if False:\n",
    "    visu = TSNE(n_components=3).fit_transform(all_codes)\n",
    "else:\n",
    "    visu = all_codes[:, -10:-7]\n",
    "fig = plt.figure(figsize=(8, 8))\n",
    "ax = fig.add_subplot(111, projection=\"3d\")\n",
    "im = ax.scatter(*visu.T, c=colors)\n",
    "cbar = plt.colorbar(im)\n",
    "cbar.ax.set_ylabel(\"Attack strength ($\\\\varepsilon$)\");\n",
    "plt.title(\"Features for '%s' detector\" % which)\n",
    "plt.tight_layout()"
   ]
  },
  {
   "cell_type": "code",
   "execution_count": null,
   "metadata": {},
   "outputs": [],
   "source": [
    "def monte_carlo(model, x, n_iter=100):\n",
    "    import keras.backend as K\n",
    "    f = K.function([model.input, K.learning_phase()],\n",
    "                   [model.output])\n",
    "    return [f((x, 1))[0] for _ in range(n_iter)]"
   ]
  },
  {
   "cell_type": "code",
   "execution_count": null,
   "metadata": {},
   "outputs": [],
   "source": [
    "class UncertaintyDetector(BaseEstimator, ClassifierMixin):\n",
    "    def __init__(self, random_state=None, mc_n_iter=20):\n",
    "        super(UncertaintyDetector, self).__init__()\n",
    "        self.random_state = random_state\n",
    "        self.mc_n_iter = mc_n_iter\n",
    "        \n",
    "    def get_uncertainty(self, x):\n",
    "        predictions = monte_carlo(classifier_model, x, n_iter=self.mc_n_iter)\n",
    "        return np.var(predictions, axis=0)\n",
    "    \n",
    "    def fit(self, X, y=None):\n",
    "        if y is None:\n",
    "            self.final = OneClassSVM()\n",
    "        else:\n",
    "            self.final = LogisticRegressionCV(cv=3, random_state=self.random_state)\n",
    "        \n",
    "        uncertainty = self.get_uncertainty(X)\n",
    "        self.final.fit(uncertainty, y)\n",
    "        return self\n",
    "        \n",
    "    def predict(self, X):\n",
    "        return self.final.predict(self.get_uncertainty(X))\n",
    "                    "
   ]
  },
  {
   "cell_type": "code",
   "execution_count": null,
   "metadata": {},
   "outputs": [],
   "source": [
    "my_detectors[\"supervised_uncertainty\"] = UncertaintyDetector().fit(x_train_detector, y_detector_flat)"
   ]
  },
  {
   "cell_type": "code",
   "execution_count": 55,
   "metadata": {},
   "outputs": [],
   "source": [
    "from scipy import linalg\n",
    "from sklearn.utils.validation import check_is_fitted\n",
    "\n",
    "class LIDDetector(BaseEstimator, ClassifierMixin):\n",
    "    def __init__(self, layer_idx=0, norm=2, threshold=1.3, low_mem=True):\n",
    "        super(LIDDetector, self).__init__()\n",
    "        self.layer_idx = layer_idx\n",
    "        self.norm = norm\n",
    "        self.threshold = threshold\n",
    "        self.low_mem = low_mem\n",
    "        self._build_activation_model()\n",
    "        \n",
    "    def _compute_norms(self, data, axis=-1):\n",
    "        if np.isinf(self.norm):\n",
    "            return np.abs(data).max(axis=-1)\n",
    "        else:\n",
    "            return linalg.norm(data, ord=self.norm, axis=axis)\n",
    "\n",
    "    def _compute_pointwise_distances(self, X, X_=None):\n",
    "        if X_ is None:\n",
    "            X_ = X\n",
    "        X = X.reshape((len(X), -1))\n",
    "        X_ = X_.reshape((len(X_), -1))\n",
    "        if self.low_mem:\n",
    "            dist = np.ndarray((len(X), len(X_)))\n",
    "            for i, xi in enumerate(X):\n",
    "                dist[i] = self._compute_norms(xi - X_)\n",
    "        else:\n",
    "            dist = self._compute_norms(X[:, None] - X_)\n",
    "        return dist\n",
    "    \n",
    "    def _build_activation_model(self):\n",
    "        self.activation_model_ = keras.models.Model(input=classifier_model.input,\n",
    "                                                    output=classifier_model.layers[self.layer_idx].output)\n",
    "\n",
    "    def _get_activations(self, X):\n",
    "        if self.layer_idx == 0:\n",
    "            return X\n",
    "        return self.activation_model_.predict(X)\n",
    "\n",
    "    def fit(self, X, y=None):\n",
    "        self.X_train_ = self._get_activations(X)\n",
    "        self.lids_ = self.compute_lids(self.X_train_, remove_zero_dist=True)\n",
    "        self.d_ = self.lids_.mean()\n",
    "        self.cutoff_ = self.threshold * self.d_\n",
    "        return self\n",
    "\n",
    "    def _check_is_fitted(self):\n",
    "        return check_is_fitted(self, attributes=[\"X_train_\"])\n",
    "        \n",
    "    def compute_lids(self, X, remove_zero_dist=False):\n",
    "        \"\"\"\n",
    "        Compute the Local Intrinsic Dimension (LID) of each sample in a batch\n",
    "        \"\"\"\n",
    "        self._check_is_fitted()\n",
    "        dist = self._compute_pointwise_distances(X, self.X_train_)\n",
    "        self.dist_ = dist.copy()\n",
    "        \n",
    "        # handle zeros\n",
    "        if remove_zero_dist:\n",
    "            zero_mask = dist == 0.\n",
    "            if zero_mask.sum():\n",
    "                dist[zero_mask] = dist[~zero_mask].min()\n",
    "\n",
    "        dist.sort(axis=-1)\n",
    "        return np.reciprocal(np.log(dist[:, -1][:, None] / dist).mean(axis=-1))\n",
    "\n",
    "    def predict(self, X, debug=True):\n",
    "        self._check_is_fitted()\n",
    "        X = self._get_activations(X)\n",
    "        lids = self.compute_lids(X)\n",
    "        if debug:\n",
    "            plt.plot(lids)\n",
    "            plt.axhline(self.cutoff_, linestyle=\"--\", c=\"k\")\n",
    "        flags = np.ones(len(X))\n",
    "        flags[lids >= self.cutoff_] = -1\n",
    "        return flags\n",
    "            "
   ]
  },
  {
   "cell_type": "code",
   "execution_count": 25,
   "metadata": {},
   "outputs": [],
   "source": [
    "my_detectors[\"unsupervised_lid\"] = LIDDetector(layer_idx=25).fit(x_train)\n",
    "my_detectors[\"unsupervised_id\"] = IDDetector(layer_idx=25).fit(x_train)"
   ]
  },
  {
   "cell_type": "code",
   "execution_count": null,
   "metadata": {},
   "outputs": [],
   "source": [
    "(my_detectors[\"unsupervised_id\"].predict(np.concatenate((x_test, all_x_test_adv[0.2]), axis=0)) == -1).sum()"
   ]
  },
  {
   "cell_type": "code",
   "execution_count": 56,
   "metadata": {},
   "outputs": [],
   "source": [
    "from sklearn.linear_model import LinearRegression\n",
    "\n",
    "class IDDetector(LIDDetector):\n",
    "    def _compute_mus(self, X, X_=None):\n",
    "        dist = self._compute_pointwise_distances(X, X_)\n",
    "        np.fill_diagonal(dist, np.inf)\n",
    "        dist.sort(axis=-1)\n",
    "        return dist[:, 1] / dist[:, 0]  # ratio of distance from 2nd nearest to nearest point\n",
    "\n",
    "    def fit(self, X):\n",
    "        self.X_train_ = self._get_activations(X)\n",
    "        mus = self._compute_mus(self.X_train_)\n",
    "        mus.sort()\n",
    "        F = np.arange(1, len(X) + 1) / float(len(X))\n",
    "        self.xx_ = np.log(mus)\n",
    "        self.yy_ = -np.log(1 - F)\n",
    "        lr = LinearRegression(fit_intercept=False)\n",
    "        self.d_ = lr.fit(self.xx_[:-1][:, None], self.yy_[:-1]).coef_[0]\n",
    "        self.cutoff_ = self.threshold * self.d_\n",
    "        return self"
   ]
  },
  {
   "cell_type": "code",
   "execution_count": null,
   "metadata": {},
   "outputs": [],
   "source": [
    "from colour import Color\n",
    "blue = Color(\"blue\")\n",
    "colors = list(blue.range_to(Color(\"red\"), 1 + len(all_x_test_adv)))\n",
    "colors = [np.array(color.get_rgb())[None, :] for color in colors]\n",
    "layer_indices = [0, 25]\n",
    "_, axes = plt.subplots(len(layer_indices), 2, figsize=(2 * 5, len(layer_indices) * 5))\n",
    "legended = False\n",
    "for layer_idx, (ax1, ax2) in zip(layer_indices, axes):\n",
    "    ids = []\n",
    "    toto = IDDetector(layer_idx=layer_idx)\n",
    "    for eps, c in zip(all_x_test_adv, colors):\n",
    "        toto.fit(all_x_test_adv[eps])\n",
    "        ax1.scatter(toto.xx_, toto.yy_, label=\"$\\\\varepsilon=%.2f$\" % eps, c=c)\n",
    "        ids.append(toto.d_)\n",
    "\n",
    "    ax1.set_xlabel(\"$\\\\log(\\\\mu)$\")\n",
    "    ax1.set_ylabel(\"$-\\\\log(1-F(\\\\mu))$\")\n",
    "        \n",
    "    if not legended:\n",
    "        legended = True\n",
    "        ax1.legend(loc=\"best\", ncol=1)\n",
    "            \n",
    "    ax2.plot(eps_range, ids, linewidth=3)\n",
    "    ax2.set_xlabel(\"Attack strength ($\\\\varepsilon$)\")\n",
    "    ax2.set_ylabel(\"Intrinsic dimension ($d$)\")\n",
    "plt.tight_layout()\n",
    "plt.savefig(\"intrinsic.png\", dpi=200, bbox_inches=\"tight\")"
   ]
  },
  {
   "cell_type": "code",
   "execution_count": 27,
   "metadata": {},
   "outputs": [
    {
     "data": {
      "text/plain": [
       "41.58948758171737"
      ]
     },
     "execution_count": 27,
     "metadata": {},
     "output_type": "execute_result"
    }
   ],
   "source": [
    "my_detectors[\"unsupervised_id\"].d_"
   ]
  },
  {
   "cell_type": "code",
   "execution_count": 143,
   "metadata": {},
   "outputs": [],
   "source": [
    "x = np.random.randn(2000, 6)\n",
    "x /= linalg.norm(x, axis=-1)[:, None]\n",
    "if x.shape[1] == 2:\n",
    "    plt.scatter(*x.T)"
   ]
  },
  {
   "cell_type": "code",
   "execution_count": 107,
   "metadata": {},
   "outputs": [
    {
     "data": {
      "text/plain": [
       "1.3371043430850882"
      ]
     },
     "execution_count": 107,
     "metadata": {},
     "output_type": "execute_result"
    }
   ],
   "source": [
    "toto = LIDDetector().fit(x)\n",
    "toto.d_"
   ]
  },
  {
   "cell_type": "code",
   "execution_count": 151,
   "metadata": {},
   "outputs": [],
   "source": [
    "import pandas as pd\n",
    "import numpy as np\n",
    "from sklearn.neighbors import NearestNeighbors\n",
    "\n",
    "\n",
    "def intrinsic_dim_sample_wise(X, k=5, dist=None):\n",
    "    \"\"\"\n",
    "    Returns Levina-Bickel dimensionality estimation\n",
    "    \n",
    "    Input parameters:\n",
    "    X    - data\n",
    "    k    - number of nearest neighbours (Default = 5)\n",
    "    dist - matrix of distances to the k nearest neighbors of each point (Optional)\n",
    "    \n",
    "    Returns: \n",
    "    dimensionality estimation for the k \n",
    "    \"\"\"\n",
    "    if dist is None:\n",
    "        knn = NearestNeighbors(n_neighbors=k+1, n_jobs=1, algorithm='ball_tree').fit(X)\n",
    "        dist, _ = knn.kneighbors(X)\n",
    "    dist = dist[:, 1:(k+1)]\n",
    "    assert dist.shape == (X.shape[0], k)\n",
    "    assert np.all(dist > 0)\n",
    "    d = np.log(dist[:, k - 1: k] / dist[:, 0:k - 1])\n",
    "    d = d.sum(axis=1) / (k - 2)\n",
    "    d = 1. / d\n",
    "    intdim_sample = d\n",
    "    return intdim_sample\n",
    "\n",
    "\n",
    "def intrinsic_dim_scale_interval(X, k1=10, k2=20, dist=None):\n",
    "    \"\"\"\n",
    "    Returns range of Levina-Bickel dimensionality estimation for k = k1..k2, k1 < k2\n",
    "    \n",
    "    Input parameters:\n",
    "    X    - data\n",
    "    k1   - minimal number of nearest neighbours (Default = 10)\n",
    "    k2   - maximal number of nearest neighbours (Default = 20)\n",
    "    \n",
    "    Returns: \n",
    "    list of Levina-Bickel dimensionality estimation for k = k1...k2\n",
    "    \"\"\"\n",
    "    if dist is None:\n",
    "        knn = NearestNeighbors(n_neighbors=k2+1, n_jobs=1, algorithm='ball_tree').fit(X)\n",
    "        dist, _ = knn.kneighbors(X)\n",
    "        \n",
    "    intdim_k = []\n",
    "    for k in range(k1, k2 + 1):\n",
    "        m = intrinsic_dim_sample_wise(X, k, dist=dist).mean()\n",
    "        intdim_k.append(m)\n",
    "    return np.asanyarray(intdim_k)\n"
   ]
  },
  {
   "cell_type": "code",
   "execution_count": 152,
   "metadata": {},
   "outputs": [
    {
     "name": "stdout",
     "output_type": "stream",
     "text": [
      "(2000,)\n",
      "(2000,)\n",
      "(2000,)\n",
      "(2000,)\n",
      "(2000,)\n",
      "(2000,)\n",
      "(2000,)\n",
      "(2000,)\n",
      "(2000,)\n",
      "(2000,)\n",
      "(2000,)\n"
     ]
    },
    {
     "data": {
      "text/plain": [
       "4.941818468746057"
      ]
     },
     "execution_count": 152,
     "metadata": {},
     "output_type": "execute_result"
    }
   ],
   "source": [
    "intrinsic_dim_scale_interval(x).mean()"
   ]
  },
  {
   "cell_type": "code",
   "execution_count": null,
   "metadata": {},
   "outputs": [],
   "source": []
  },
  {
   "cell_type": "code",
   "execution_count": null,
   "metadata": {},
   "outputs": [],
   "source": []
  }
 ],
 "metadata": {
  "kernelspec": {
   "display_name": "Python 3",
   "language": "python",
   "name": "python3"
  },
  "language_info": {
   "codemirror_mode": {
    "name": "ipython",
    "version": 3
   },
   "file_extension": ".py",
   "mimetype": "text/x-python",
   "name": "python",
   "nbconvert_exporter": "python",
   "pygments_lexer": "ipython3",
   "version": "3.7.6"
  }
 },
 "nbformat": 4,
 "nbformat_minor": 1
}
